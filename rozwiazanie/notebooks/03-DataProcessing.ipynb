{
 "metadata": {
  "language_info": {
   "codemirror_mode": {
    "name": "ipython",
    "version": 3
   },
   "file_extension": ".py",
   "mimetype": "text/x-python",
   "name": "python",
   "nbconvert_exporter": "python",
   "pygments_lexer": "ipython3",
   "version": "3.9.2-final"
  },
  "orig_nbformat": 2,
  "kernelspec": {
   "name": "python3",
   "display_name": "Python 3.9.2 64-bit ('venv')",
   "metadata": {
    "interpreter": {
     "hash": "1e64b20f688619e2baa7c5cdbdcf9efc5f424a087fdd7f66f3cc23c558ff6b47"
    }
   }
  }
 },
 "nbformat": 4,
 "nbformat_minor": 2,
 "cells": [
  {
   "cell_type": "code",
   "execution_count": 1,
   "metadata": {},
   "outputs": [],
   "source": [
    "import pandas as pd\n",
    "import re"
   ]
  },
  {
   "cell_type": "code",
   "execution_count": 2,
   "metadata": {},
   "outputs": [
    {
     "output_type": "execute_result",
     "data": {
      "text/plain": [
       "                    name      company technology           job location_city  \\\n",
       "0         UX/UI Designer      HL Tech        NaN  data analyst        Warsaw   \n",
       "1  Power BI Data Analyst       Devire        NaN  data analyst      warszawa   \n",
       "2           Data Analyst         IIIT        NaN  data analyst      Warszawa   \n",
       "3    Senior Data Analyst       Devire        NaN  data analyst        Zdalna   \n",
       "4         Office Manager  Prime Force        NaN  data analyst        Warsaw   \n",
       "\n",
       "  location_country  salary_low  salary_high salary_currency  \n",
       "0              POL        6500         9500             PLN  \n",
       "1              POL       13440        16800             PLN  \n",
       "2              POL        8000        12000             PLN  \n",
       "3              NaN       16800        20160             PLN  \n",
       "4              POL        3500         6500             PLN  "
      ],
      "text/html": "<div>\n<style scoped>\n    .dataframe tbody tr th:only-of-type {\n        vertical-align: middle;\n    }\n\n    .dataframe tbody tr th {\n        vertical-align: top;\n    }\n\n    .dataframe thead th {\n        text-align: right;\n    }\n</style>\n<table border=\"1\" class=\"dataframe\">\n  <thead>\n    <tr style=\"text-align: right;\">\n      <th></th>\n      <th>name</th>\n      <th>company</th>\n      <th>technology</th>\n      <th>job</th>\n      <th>location_city</th>\n      <th>location_country</th>\n      <th>salary_low</th>\n      <th>salary_high</th>\n      <th>salary_currency</th>\n    </tr>\n  </thead>\n  <tbody>\n    <tr>\n      <th>0</th>\n      <td>UX/UI Designer</td>\n      <td>HL Tech</td>\n      <td>NaN</td>\n      <td>data analyst</td>\n      <td>Warsaw</td>\n      <td>POL</td>\n      <td>6500</td>\n      <td>9500</td>\n      <td>PLN</td>\n    </tr>\n    <tr>\n      <th>1</th>\n      <td>Power BI Data Analyst</td>\n      <td>Devire</td>\n      <td>NaN</td>\n      <td>data analyst</td>\n      <td>warszawa</td>\n      <td>POL</td>\n      <td>13440</td>\n      <td>16800</td>\n      <td>PLN</td>\n    </tr>\n    <tr>\n      <th>2</th>\n      <td>Data Analyst</td>\n      <td>IIIT</td>\n      <td>NaN</td>\n      <td>data analyst</td>\n      <td>Warszawa</td>\n      <td>POL</td>\n      <td>8000</td>\n      <td>12000</td>\n      <td>PLN</td>\n    </tr>\n    <tr>\n      <th>3</th>\n      <td>Senior Data Analyst</td>\n      <td>Devire</td>\n      <td>NaN</td>\n      <td>data analyst</td>\n      <td>Zdalna</td>\n      <td>NaN</td>\n      <td>16800</td>\n      <td>20160</td>\n      <td>PLN</td>\n    </tr>\n    <tr>\n      <th>4</th>\n      <td>Office Manager</td>\n      <td>Prime Force</td>\n      <td>NaN</td>\n      <td>data analyst</td>\n      <td>Warsaw</td>\n      <td>POL</td>\n      <td>3500</td>\n      <td>6500</td>\n      <td>PLN</td>\n    </tr>\n  </tbody>\n</table>\n</div>"
     },
     "metadata": {},
     "execution_count": 2
    }
   ],
   "source": [
    "df_raw = pd.read_csv(\n",
    "    '../data/interim/job_offers.csv',\n",
    "    sep=';',\n",
    "    encoding='UTF-8'\n",
    ")\n",
    "df_raw.head()"
   ]
  },
  {
   "cell_type": "code",
   "execution_count": 3,
   "metadata": {},
   "outputs": [],
   "source": [
    "df = df_raw.copy()\n",
    "\n",
    "df['name'] = df['name'].str.lower()\n",
    "df['location_city'] = df['location_city'].str.lower()"
   ]
  },
  {
   "cell_type": "code",
   "execution_count": 4,
   "metadata": {},
   "outputs": [],
   "source": [
    "df['salary_avg'] = (df['salary_low'] + df['salary_high'])/2"
   ]
  },
  {
   "cell_type": "code",
   "execution_count": 5,
   "metadata": {},
   "outputs": [
    {
     "output_type": "execute_result",
     "data": {
      "text/plain": [
       "array(['warsaw', 'warszawa', 'zdalna', 'robakowo', 'gdańsk', 'kraków',\n",
       "       'gliwice', 'budapest', 'wrocław', 'katowice', 'białystok',\n",
       "       'gdansk', 'łódź'], dtype=object)"
      ]
     },
     "metadata": {},
     "execution_count": 5
    }
   ],
   "source": [
    "df['location_city'].unique()"
   ]
  },
  {
   "cell_type": "code",
   "execution_count": 6,
   "metadata": {},
   "outputs": [],
   "source": [
    "df.loc[df['location_city'].isin(['warsaw', 'warszawa']), 'location_city'] = 'warszawa'\n",
    "df.loc[df['location_city'].isin(['gdańsk', 'gdansk']), 'location_city'] = 'gdańsk'"
   ]
  },
  {
   "cell_type": "code",
   "execution_count": 7,
   "metadata": {},
   "outputs": [],
   "source": [
    "df.loc[\n",
    "    (df['location_city'] == 'zdalna') &\n",
    "    (df['location_country'].isnull()),\n",
    "    'location_country'] = 'B/D'"
   ]
  },
  {
   "cell_type": "code",
   "execution_count": 8,
   "metadata": {},
   "outputs": [],
   "source": [
    "df['is_senior'] = 0\n",
    "df.loc[df['name'].apply(lambda x: True if re.match('(?i)(senior)', x) else False), \n",
    "'is_senior'] = 1"
   ]
  },
  {
   "cell_type": "code",
   "execution_count": 9,
   "metadata": {},
   "outputs": [],
   "source": [
    "df = df.loc[df['salary_currency'] == 'PLN']"
   ]
  },
  {
   "cell_type": "code",
   "execution_count": 10,
   "metadata": {},
   "outputs": [],
   "source": [
    "df.to_csv('../data/processed/job_offers.csv',\n",
    "    sep=';',\n",
    "    encoding='UTF-8',\n",
    "    index=False)"
   ]
  }
 ]
}