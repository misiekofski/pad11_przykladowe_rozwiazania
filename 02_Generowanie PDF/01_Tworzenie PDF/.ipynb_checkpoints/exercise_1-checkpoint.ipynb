{
 "cells": [
  {
   "cell_type": "markdown",
   "id": "national-prospect",
   "metadata": {},
   "source": [
    "Za pomocą biblioteki `reportlab` wygeneruj PDF z tabliczką mnożenia liczb od 0 do 10 włącznie. Pogrubionym fontem wypisz nagłówki wierszy i kolumn - czynniki, natomiast iloczyny wypisz bez pogrubienia.\n",
    "\n",
    "Podpowiedź: stwórz zagnieżdżone pętle **for**: zewnętrzna ze zmienną `x` oraz wewnętrzna ze zmienną `y` (albo odwrotnie, jeśli wolisz). Użyj tych zmiennych zarówno do obliczenia wyników mnożenia, jak i do obliczenia gdzie na stronie ta liczba ma się pojawić."
   ]
  },
  {
   "cell_type": "code",
   "execution_count": 8,
   "id": "dynamic-location",
   "metadata": {},
   "outputs": [],
   "source": [
    "from reportlab.pdfgen import canvas\n",
    "from reportlab.lib.pagesizes import A4\n",
    "from reportlab.pdfbase import pdfmetrics\n",
    "from reportlab.pdfbase.ttfonts import TTFont\n",
    "\n",
    "c = canvas.Canvas('tabliczka-mnozenia.pdf', pagesize=A4)\n",
    "pdfmetrics.registerFont(TTFont('Arial', 'arial.ttf'))\n",
    "c.setFont('Arial', 16, 12)\n",
    "width, height = A4\n",
    "\n",
    "start_x = 80\n",
    "\n",
    "# wydrukuj pierwszy pogrubiony wiersz z nazwami kolumn\n",
    "for h in range(1,11):\n",
    "    c.drawString(start_x, height-50, str(h), mode=1)\n",
    "    start_x += 40\n",
    "\n",
    "\n",
    "start_y = height-90   # 40 pikseli niżej niż wiersz powyżej \n",
    "# wydrukuj pierwszą kolumnę z nazwami wierszy    \n",
    "for h in range(1,11):\n",
    "    c.drawString(40, start_y, str(h), mode=1)\n",
    "    start_y -= 40\n",
    "    \n",
    "    \n",
    "c.save()"
   ]
  },
  {
   "cell_type": "code",
   "execution_count": null,
   "id": "6b3e7180-92ab-44e3-b58e-d9c002117528",
   "metadata": {},
   "outputs": [],
   "source": []
  }
 ],
 "metadata": {
  "kernelspec": {
   "display_name": "Python 3 (ipykernel)",
   "language": "python",
   "name": "python3"
  },
  "language_info": {
   "codemirror_mode": {
    "name": "ipython",
    "version": 3
   },
   "file_extension": ".py",
   "mimetype": "text/x-python",
   "name": "python",
   "nbconvert_exporter": "python",
   "pygments_lexer": "ipython3",
   "version": "3.9.7"
  }
 },
 "nbformat": 4,
 "nbformat_minor": 5
}
