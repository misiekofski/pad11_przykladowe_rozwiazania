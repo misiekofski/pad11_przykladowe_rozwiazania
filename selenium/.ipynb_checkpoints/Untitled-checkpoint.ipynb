{
 "cells": [
  {
   "cell_type": "code",
   "execution_count": 3,
   "id": "99ad173c-5343-4431-98b3-9bfc901a510b",
   "metadata": {},
   "outputs": [],
   "source": [
    "from selenium.webdriver import Chrome\n",
    "import time\n",
    "\n",
    "driver = Chrome()\n",
    "driver.get(\"https://selenium-python.readthedocs.io/getting-started.html\")\n",
    "html = driver.page_source\n",
    "\n",
    "with open('getting-started.html', 'w', encoding='utf-8') as file:\n",
    "    file.write(html)\n",
    "\n",
    "time.sleep(2)\n",
    "\n",
    "driver.get(\"https://selenium-python.readthedocs.io/navigating.html\")\n",
    "with open('navigating.html', 'w', encoding='utf-8') as file:\n",
    "    file.write(html)\n",
    "\n",
    "    \n",
    "driver.close()"
   ]
  },
  {
   "cell_type": "code",
   "execution_count": null,
   "id": "cee49a61-e8bf-4e49-9296-8f6147779246",
   "metadata": {},
   "outputs": [],
   "source": []
  }
 ],
 "metadata": {
  "kernelspec": {
   "display_name": "Python 3 (ipykernel)",
   "language": "python",
   "name": "python3"
  },
  "language_info": {
   "codemirror_mode": {
    "name": "ipython",
    "version": 3
   },
   "file_extension": ".py",
   "mimetype": "text/x-python",
   "name": "python",
   "nbconvert_exporter": "python",
   "pygments_lexer": "ipython3",
   "version": "3.9.7"
  }
 },
 "nbformat": 4,
 "nbformat_minor": 5
}
