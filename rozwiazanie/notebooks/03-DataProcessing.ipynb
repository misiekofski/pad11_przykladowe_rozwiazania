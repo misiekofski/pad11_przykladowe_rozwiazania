{
 "cells": [
  {
   "cell_type": "code",
   "execution_count": 1,
   "metadata": {},
   "outputs": [],
   "source": [
    "import pandas as pd\n",
    "import re"
   ]
  },
  {
   "cell_type": "code",
   "execution_count": 2,
   "metadata": {},
   "outputs": [
    {
     "data": {
      "text/html": [
       "<div>\n",
       "<style scoped>\n",
       "    .dataframe tbody tr th:only-of-type {\n",
       "        vertical-align: middle;\n",
       "    }\n",
       "\n",
       "    .dataframe tbody tr th {\n",
       "        vertical-align: top;\n",
       "    }\n",
       "\n",
       "    .dataframe thead th {\n",
       "        text-align: right;\n",
       "    }\n",
       "</style>\n",
       "<table border=\"1\" class=\"dataframe\">\n",
       "  <thead>\n",
       "    <tr style=\"text-align: right;\">\n",
       "      <th></th>\n",
       "      <th>name</th>\n",
       "      <th>company</th>\n",
       "      <th>technology</th>\n",
       "      <th>job</th>\n",
       "      <th>location_city</th>\n",
       "      <th>location_country</th>\n",
       "      <th>salary_low</th>\n",
       "      <th>salary_high</th>\n",
       "      <th>salary_currency</th>\n",
       "      <th>salary</th>\n",
       "    </tr>\n",
       "  </thead>\n",
       "  <tbody>\n",
       "    <tr>\n",
       "      <th>0</th>\n",
       "      <td>Business Analyst/Senior Business Analyst</td>\n",
       "      <td>SoftServe</td>\n",
       "      <td>NaN</td>\n",
       "      <td>data analyst</td>\n",
       "      <td>Zdalna</td>\n",
       "      <td>NaN</td>\n",
       "      <td>11000.0</td>\n",
       "      <td>21500.0</td>\n",
       "      <td>PLN</td>\n",
       "      <td>NaN</td>\n",
       "    </tr>\n",
       "    <tr>\n",
       "      <th>1</th>\n",
       "      <td>Power BI Developer / Data Analyst</td>\n",
       "      <td>Objectivity</td>\n",
       "      <td>NaN</td>\n",
       "      <td>data analyst</td>\n",
       "      <td>Zdalna</td>\n",
       "      <td>NaN</td>\n",
       "      <td>14000.0</td>\n",
       "      <td>20000.0</td>\n",
       "      <td>PLN</td>\n",
       "      <td>NaN</td>\n",
       "    </tr>\n",
       "    <tr>\n",
       "      <th>2</th>\n",
       "      <td>Junior Data Analyst</td>\n",
       "      <td>Coinfirm</td>\n",
       "      <td>NaN</td>\n",
       "      <td>data analyst</td>\n",
       "      <td>Zdalna</td>\n",
       "      <td>NaN</td>\n",
       "      <td>3100.0</td>\n",
       "      <td>5000.0</td>\n",
       "      <td>PLN</td>\n",
       "      <td>NaN</td>\n",
       "    </tr>\n",
       "    <tr>\n",
       "      <th>3</th>\n",
       "      <td>Data Analyst</td>\n",
       "      <td>Packhelp</td>\n",
       "      <td>NaN</td>\n",
       "      <td>data analyst</td>\n",
       "      <td>Warsaw</td>\n",
       "      <td>POL</td>\n",
       "      <td>13000.0</td>\n",
       "      <td>15000.0</td>\n",
       "      <td>PLN</td>\n",
       "      <td>NaN</td>\n",
       "    </tr>\n",
       "    <tr>\n",
       "      <th>4</th>\n",
       "      <td>Data analyst (analityk danych)</td>\n",
       "      <td>Alterdata.io sp. z o.o.</td>\n",
       "      <td>NaN</td>\n",
       "      <td>data analyst</td>\n",
       "      <td>Zdalna</td>\n",
       "      <td>NaN</td>\n",
       "      <td>12000.0</td>\n",
       "      <td>18000.0</td>\n",
       "      <td>PLN</td>\n",
       "      <td>NaN</td>\n",
       "    </tr>\n",
       "  </tbody>\n",
       "</table>\n",
       "</div>"
      ],
      "text/plain": [
       "                                       name                  company  \\\n",
       "0  Business Analyst/Senior Business Analyst                SoftServe   \n",
       "1         Power BI Developer / Data Analyst              Objectivity   \n",
       "2                       Junior Data Analyst                 Coinfirm   \n",
       "3                              Data Analyst                 Packhelp   \n",
       "4            Data analyst (analityk danych)  Alterdata.io sp. z o.o.   \n",
       "\n",
       "   technology           job location_city location_country  salary_low  \\\n",
       "0         NaN  data analyst        Zdalna              NaN     11000.0   \n",
       "1         NaN  data analyst        Zdalna              NaN     14000.0   \n",
       "2         NaN  data analyst        Zdalna              NaN      3100.0   \n",
       "3         NaN  data analyst        Warsaw              POL     13000.0   \n",
       "4         NaN  data analyst        Zdalna              NaN     12000.0   \n",
       "\n",
       "   salary_high salary_currency  salary  \n",
       "0      21500.0             PLN     NaN  \n",
       "1      20000.0             PLN     NaN  \n",
       "2       5000.0             PLN     NaN  \n",
       "3      15000.0             PLN     NaN  \n",
       "4      18000.0             PLN     NaN  "
      ]
     },
     "execution_count": 2,
     "metadata": {},
     "output_type": "execute_result"
    }
   ],
   "source": [
    "df_raw = pd.read_csv(\n",
    "    '../data/interim/job_offers.csv',\n",
    "    sep=';',\n",
    "    encoding='UTF-8'\n",
    ")\n",
    "df_raw.head()"
   ]
  },
  {
   "cell_type": "code",
   "execution_count": 3,
   "metadata": {},
   "outputs": [],
   "source": [
    "df = df_raw.copy()\n",
    "\n",
    "df['name'] = df['name'].str.lower()\n",
    "df['location_city'] = df['location_city'].str.lower()"
   ]
  },
  {
   "cell_type": "code",
   "execution_count": 4,
   "metadata": {},
   "outputs": [],
   "source": [
    "df['salary_avg'] = (df['salary_low'] + df['salary_high'])/2"
   ]
  },
  {
   "cell_type": "code",
   "execution_count": 5,
   "metadata": {},
   "outputs": [
    {
     "data": {
      "text/plain": [
       "array(['zdalna', 'warsaw', 'warszawa', 'kraków', 'gdańsk', 'wroclaw',\n",
       "       'poznań', 'krakow', 'malbork', 'budapest', 'łódź', 'sopot'],\n",
       "      dtype=object)"
      ]
     },
     "execution_count": 5,
     "metadata": {},
     "output_type": "execute_result"
    }
   ],
   "source": [
    "df['location_city'].unique()"
   ]
  },
  {
   "cell_type": "code",
   "execution_count": 6,
   "metadata": {},
   "outputs": [],
   "source": [
    "df.loc[df['location_city'].isin(['warsaw', 'warszawa']), 'location_city'] = 'warszawa'\n",
    "df.loc[df['location_city'].isin(['gdańsk', 'gdansk']), 'location_city'] = 'gdańsk'"
   ]
  },
  {
   "cell_type": "code",
   "execution_count": 7,
   "metadata": {},
   "outputs": [],
   "source": [
    "df.loc[\n",
    "    (df['location_city'] == 'zdalna') &\n",
    "    (df['location_country'].isnull()),\n",
    "    'location_country'] = 'B/D'"
   ]
  },
  {
   "cell_type": "code",
   "execution_count": 8,
   "metadata": {},
   "outputs": [],
   "source": [
    "df['is_senior'] = 0\n",
    "df.loc[df['name'].apply(lambda x: True if re.match('(?i)(senior)', x) else False), \n",
    "'is_senior'] = 1"
   ]
  },
  {
   "cell_type": "code",
   "execution_count": 9,
   "metadata": {},
   "outputs": [],
   "source": [
    "df = df.loc[df['salary_currency'] == 'PLN']"
   ]
  },
  {
   "cell_type": "code",
   "execution_count": 10,
   "metadata": {},
   "outputs": [],
   "source": [
    "df.to_csv('../data/processed/job_offers.csv',\n",
    "    sep=';',\n",
    "    encoding='UTF-8',\n",
    "    index=False)"
   ]
  }
 ],
 "metadata": {
  "kernelspec": {
   "display_name": "Python 3.9.2 64-bit ('venv')",
   "metadata": {
    "interpreter": {
     "hash": "1e64b20f688619e2baa7c5cdbdcf9efc5f424a087fdd7f66f3cc23c558ff6b47"
    }
   },
   "name": "python3"
  },
  "language_info": {
   "codemirror_mode": {
    "name": "ipython",
    "version": 3
   },
   "file_extension": ".py",
   "mimetype": "text/x-python",
   "name": "python",
   "nbconvert_exporter": "python",
   "pygments_lexer": "ipython3",
   "version": "3.9.7"
  },
  "orig_nbformat": 2
 },
 "nbformat": 4,
 "nbformat_minor": 2
}
