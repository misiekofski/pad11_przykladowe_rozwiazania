{
 "cells": [
  {
   "cell_type": "code",
   "execution_count": 8,
   "id": "63d4b31a-82a1-4399-9c14-82ff9e3ae733",
   "metadata": {},
   "outputs": [],
   "source": [
    "from reportlab.platypus import SimpleDocTemplate, Table, TableStyle\n",
    "from reportlab.lib import colors\n",
    "from reportlab.pdfbase import pdfmetrics\n",
    "from reportlab.pdfbase.ttfonts import TTFont\n",
    " \n",
    "pdfmetrics.registerFont(TTFont('TimesNewRoman', 'times.ttf'))\n",
    "doc = SimpleDocTemplate('table.pdf')\n",
    "content = []\n",
    " \n",
    "data = [[x*y for x in range(1, 11)] for y in range(1, 11)]\n",
    "data_table = Table(data, [60, 20, 60])\n",
    "data_table.setStyle(TableStyle([('FONT', (0, 0), (-1, -1), 'TimesNewRoman', 13),\n",
    "    ('VALIGN', (0, 0), (0, -1), 'TOP'),\n",
    "    ('ALIGN', (0, 0), (-1, 0), 'LEFT'),\n",
    "    ('ALIGN', (1, 1), (-1, -1), 'CENTER'),\n",
    "    ('BOX', (0, 0), (-1, -1), 0.7, colors.black),\n",
    "    ('INNERGRID', (0, 0), (-1, -1), 0.25, colors.red),\n",
    "    ('BACKGROUND', (0, 0), (0, -1), colors.lightcyan),\n",
    "    ('BACKGROUND', (0, 0), (-1, 0), colors.lightcyan)\n",
    "]))\n",
    "content.append(data_table)\n",
    "doc.build(content)"
   ]
  },
  {
   "cell_type": "code",
   "execution_count": null,
   "id": "09569495-996e-4b2e-9b8b-94bceb3c7fc6",
   "metadata": {},
   "outputs": [],
   "source": []
  }
 ],
 "metadata": {
  "kernelspec": {
   "display_name": "Python 3 (ipykernel)",
   "language": "python",
   "name": "python3"
  },
  "language_info": {
   "codemirror_mode": {
    "name": "ipython",
    "version": 3
   },
   "file_extension": ".py",
   "mimetype": "text/x-python",
   "name": "python",
   "nbconvert_exporter": "python",
   "pygments_lexer": "ipython3",
   "version": "3.9.7"
  }
 },
 "nbformat": 4,
 "nbformat_minor": 5
}
