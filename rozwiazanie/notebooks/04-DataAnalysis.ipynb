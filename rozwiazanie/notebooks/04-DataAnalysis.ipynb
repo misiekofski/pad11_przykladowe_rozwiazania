{
 "cells": [
  {
   "cell_type": "code",
   "execution_count": 1,
   "metadata": {},
   "outputs": [],
   "source": [
    "import pandas as pd\n",
    "import matplotlib.pyplot as plt"
   ]
  },
  {
   "cell_type": "code",
   "execution_count": 2,
   "metadata": {},
   "outputs": [
    {
     "data": {
      "text/html": [
       "<div>\n",
       "<style scoped>\n",
       "    .dataframe tbody tr th:only-of-type {\n",
       "        vertical-align: middle;\n",
       "    }\n",
       "\n",
       "    .dataframe tbody tr th {\n",
       "        vertical-align: top;\n",
       "    }\n",
       "\n",
       "    .dataframe thead th {\n",
       "        text-align: right;\n",
       "    }\n",
       "</style>\n",
       "<table border=\"1\" class=\"dataframe\">\n",
       "  <thead>\n",
       "    <tr style=\"text-align: right;\">\n",
       "      <th></th>\n",
       "      <th>name</th>\n",
       "      <th>company</th>\n",
       "      <th>technology</th>\n",
       "      <th>job</th>\n",
       "      <th>location_city</th>\n",
       "      <th>location_country</th>\n",
       "      <th>salary_low</th>\n",
       "      <th>salary_high</th>\n",
       "      <th>salary_currency</th>\n",
       "      <th>salary</th>\n",
       "      <th>salary_avg</th>\n",
       "      <th>is_senior</th>\n",
       "    </tr>\n",
       "  </thead>\n",
       "  <tbody>\n",
       "    <tr>\n",
       "      <th>0</th>\n",
       "      <td>business analyst/senior business analyst</td>\n",
       "      <td>SoftServe</td>\n",
       "      <td>NaN</td>\n",
       "      <td>data analyst</td>\n",
       "      <td>zdalna</td>\n",
       "      <td>B/D</td>\n",
       "      <td>11000.0</td>\n",
       "      <td>21500.0</td>\n",
       "      <td>PLN</td>\n",
       "      <td>NaN</td>\n",
       "      <td>16250.0</td>\n",
       "      <td>0</td>\n",
       "    </tr>\n",
       "    <tr>\n",
       "      <th>1</th>\n",
       "      <td>power bi developer / data analyst</td>\n",
       "      <td>Objectivity</td>\n",
       "      <td>NaN</td>\n",
       "      <td>data analyst</td>\n",
       "      <td>zdalna</td>\n",
       "      <td>B/D</td>\n",
       "      <td>14000.0</td>\n",
       "      <td>20000.0</td>\n",
       "      <td>PLN</td>\n",
       "      <td>NaN</td>\n",
       "      <td>17000.0</td>\n",
       "      <td>0</td>\n",
       "    </tr>\n",
       "    <tr>\n",
       "      <th>2</th>\n",
       "      <td>junior data analyst</td>\n",
       "      <td>Coinfirm</td>\n",
       "      <td>NaN</td>\n",
       "      <td>data analyst</td>\n",
       "      <td>zdalna</td>\n",
       "      <td>B/D</td>\n",
       "      <td>3100.0</td>\n",
       "      <td>5000.0</td>\n",
       "      <td>PLN</td>\n",
       "      <td>NaN</td>\n",
       "      <td>4050.0</td>\n",
       "      <td>0</td>\n",
       "    </tr>\n",
       "    <tr>\n",
       "      <th>3</th>\n",
       "      <td>data analyst</td>\n",
       "      <td>Packhelp</td>\n",
       "      <td>NaN</td>\n",
       "      <td>data analyst</td>\n",
       "      <td>warszawa</td>\n",
       "      <td>POL</td>\n",
       "      <td>13000.0</td>\n",
       "      <td>15000.0</td>\n",
       "      <td>PLN</td>\n",
       "      <td>NaN</td>\n",
       "      <td>14000.0</td>\n",
       "      <td>0</td>\n",
       "    </tr>\n",
       "    <tr>\n",
       "      <th>4</th>\n",
       "      <td>data analyst (analityk danych)</td>\n",
       "      <td>Alterdata.io sp. z o.o.</td>\n",
       "      <td>NaN</td>\n",
       "      <td>data analyst</td>\n",
       "      <td>zdalna</td>\n",
       "      <td>B/D</td>\n",
       "      <td>12000.0</td>\n",
       "      <td>18000.0</td>\n",
       "      <td>PLN</td>\n",
       "      <td>NaN</td>\n",
       "      <td>15000.0</td>\n",
       "      <td>0</td>\n",
       "    </tr>\n",
       "  </tbody>\n",
       "</table>\n",
       "</div>"
      ],
      "text/plain": [
       "                                       name                  company  \\\n",
       "0  business analyst/senior business analyst                SoftServe   \n",
       "1         power bi developer / data analyst              Objectivity   \n",
       "2                       junior data analyst                 Coinfirm   \n",
       "3                              data analyst                 Packhelp   \n",
       "4            data analyst (analityk danych)  Alterdata.io sp. z o.o.   \n",
       "\n",
       "   technology           job location_city location_country  salary_low  \\\n",
       "0         NaN  data analyst        zdalna              B/D     11000.0   \n",
       "1         NaN  data analyst        zdalna              B/D     14000.0   \n",
       "2         NaN  data analyst        zdalna              B/D      3100.0   \n",
       "3         NaN  data analyst      warszawa              POL     13000.0   \n",
       "4         NaN  data analyst        zdalna              B/D     12000.0   \n",
       "\n",
       "   salary_high salary_currency  salary  salary_avg  is_senior  \n",
       "0      21500.0             PLN     NaN     16250.0          0  \n",
       "1      20000.0             PLN     NaN     17000.0          0  \n",
       "2       5000.0             PLN     NaN      4050.0          0  \n",
       "3      15000.0             PLN     NaN     14000.0          0  \n",
       "4      18000.0             PLN     NaN     15000.0          0  "
      ]
     },
     "execution_count": 2,
     "metadata": {},
     "output_type": "execute_result"
    }
   ],
   "source": [
    "df = pd.read_csv(\n",
    "    '../data/processed/job_offers.csv',\n",
    "    sep=';',\n",
    "    encoding='UTF-8')\n",
    "df.head()"
   ]
  },
  {
   "cell_type": "code",
   "execution_count": 3,
   "metadata": {},
   "outputs": [
    {
     "name": "stdout",
     "output_type": "stream",
     "text": [
      "job\n",
      "data analyst      28\n",
      "data engineer     95\n",
      "data scientist    25\n",
      "dtype: int64\n"
     ]
    },
    {
     "data": {
      "text/plain": [
       "<AxesSubplot:xlabel='job'>"
      ]
     },
     "execution_count": 3,
     "metadata": {},
     "output_type": "execute_result"
    },
    {
     "data": {
      "image/png": "[encoded data removed]",
      "text/plain": [
       "<Figure size 432x288 with 1 Axes>"
      ]
     },
     "metadata": {
      "needs_background": "light"
     },
     "output_type": "display_data"
    }
   ],
   "source": [
    "job_offers = df.groupby(by=['job']).size()\n",
    "\n",
    "print(job_offers)\n",
    "job_offers.plot.bar()"
   ]
  },
  {
   "cell_type": "code",
   "execution_count": 4,
   "metadata": {},
   "outputs": [
    {
     "name": "stdout",
     "output_type": "stream",
     "text": [
      "location_city  job           \n",
      "budapest       data engineer      4\n",
      "               data scientist     1\n",
      "gdańsk         data engineer      1\n",
      "krakow         data engineer      1\n",
      "kraków         data analyst       1\n",
      "               data engineer      1\n",
      "malbork        data engineer      1\n",
      "poznań         data engineer      3\n",
      "sopot          data scientist     1\n",
      "warszawa       data analyst       6\n",
      "               data engineer      7\n",
      "               data scientist     6\n",
      "wroclaw        data engineer      1\n",
      "               data scientist     1\n",
      "zdalna         data analyst      21\n",
      "               data engineer     76\n",
      "               data scientist    15\n",
      "łódź           data scientist     1\n",
      "dtype: int64\n"
     ]
    },
    {
     "data": {
      "text/plain": [
       "<AxesSubplot:xlabel='location_city,job'>"
      ]
     },
     "execution_count": 4,
     "metadata": {},
     "output_type": "execute_result"
    },
    {
     "data": {
      "image/png": "[encoded data removed]",
      "text/plain": [
       "<Figure size 432x288 with 1 Axes>"
      ]
     },
     "metadata": {
      "needs_background": "light"
     },
     "output_type": "display_data"
    }
   ],
   "source": [
    "offers_by_city = df.groupby(by=['location_city', 'job']).size()\n",
    "\n",
    "print(offers_by_city)\n",
    "offers_by_city.sort_values().plot.bar()"
   ]
  },
  {
   "cell_type": "code",
   "execution_count": 5,
   "metadata": {},
   "outputs": [
    {
     "name": "stdout",
     "output_type": "stream",
     "text": [
      "                  salary_avg  count\n",
      "job                                \n",
      "data analyst    14566.696429     28\n",
      "data scientist  17895.940000     25\n",
      "data engineer   20741.005263     95\n"
     ]
    },
    {
     "data": {
      "text/plain": [
       "array([[<AxesSubplot:title={'center':'salary_avg'}, xlabel='job'>,\n",
       "        <AxesSubplot:title={'center':'count'}, xlabel='job'>]],\n",
       "      dtype=object)"
      ]
     },
     "execution_count": 5,
     "metadata": {},
     "output_type": "execute_result"
    },
    {
     "data": {
      "image/png": "[encoded data removed]",
      "text/plain": [
       "<Figure size 432x288 with 2 Axes>"
      ]
     },
     "metadata": {
      "needs_background": "light"
     },
     "output_type": "display_data"
    }
   ],
   "source": [
    "offer_salary = df.groupby(by=['job']).agg({'salary_avg': 'mean', 'name': 'count'})\n",
    "offer_salary.sort_values(by=['salary_avg'], inplace=True)\n",
    "offer_salary.rename(columns={'name':'count'}, inplace=True)\n",
    "\n",
    "print(offer_salary)\n",
    "offer_salary.plot(subplots=True, layout=(1, 2), kind='bar')"
   ]
  },
  {
   "cell_type": "code",
   "execution_count": 6,
   "metadata": {},
   "outputs": [
    {
     "data": {
      "text/html": [
       "<div>\n",
       "<style scoped>\n",
       "    .dataframe tbody tr th:only-of-type {\n",
       "        vertical-align: middle;\n",
       "    }\n",
       "\n",
       "    .dataframe tbody tr th {\n",
       "        vertical-align: top;\n",
       "    }\n",
       "\n",
       "    .dataframe thead th {\n",
       "        text-align: right;\n",
       "    }\n",
       "</style>\n",
       "<table border=\"1\" class=\"dataframe\">\n",
       "  <thead>\n",
       "    <tr style=\"text-align: right;\">\n",
       "      <th></th>\n",
       "      <th>salary_avg</th>\n",
       "      <th>count</th>\n",
       "    </tr>\n",
       "    <tr>\n",
       "      <th>location_city</th>\n",
       "      <th></th>\n",
       "      <th></th>\n",
       "    </tr>\n",
       "  </thead>\n",
       "  <tbody>\n",
       "    <tr>\n",
       "      <th>malbork</th>\n",
       "      <td>5500.000000</td>\n",
       "      <td>1</td>\n",
       "    </tr>\n",
       "    <tr>\n",
       "      <th>sopot</th>\n",
       "      <td>9750.000000</td>\n",
       "      <td>1</td>\n",
       "    </tr>\n",
       "    <tr>\n",
       "      <th>łódź</th>\n",
       "      <td>12000.000000</td>\n",
       "      <td>1</td>\n",
       "    </tr>\n",
       "    <tr>\n",
       "      <th>budapest</th>\n",
       "      <td>13449.800000</td>\n",
       "      <td>5</td>\n",
       "    </tr>\n",
       "    <tr>\n",
       "      <th>poznań</th>\n",
       "      <td>13500.000000</td>\n",
       "      <td>3</td>\n",
       "    </tr>\n",
       "    <tr>\n",
       "      <th>warszawa</th>\n",
       "      <td>14421.052632</td>\n",
       "      <td>19</td>\n",
       "    </tr>\n",
       "    <tr>\n",
       "      <th>kraków</th>\n",
       "      <td>16000.000000</td>\n",
       "      <td>2</td>\n",
       "    </tr>\n",
       "    <tr>\n",
       "      <th>krakow</th>\n",
       "      <td>16500.000000</td>\n",
       "      <td>1</td>\n",
       "    </tr>\n",
       "    <tr>\n",
       "      <th>wroclaw</th>\n",
       "      <td>20160.000000</td>\n",
       "      <td>2</td>\n",
       "    </tr>\n",
       "    <tr>\n",
       "      <th>zdalna</th>\n",
       "      <td>20596.808036</td>\n",
       "      <td>112</td>\n",
       "    </tr>\n",
       "    <tr>\n",
       "      <th>gdańsk</th>\n",
       "      <td>21000.000000</td>\n",
       "      <td>1</td>\n",
       "    </tr>\n",
       "  </tbody>\n",
       "</table>\n",
       "</div>"
      ],
      "text/plain": [
       "                 salary_avg  count\n",
       "location_city                     \n",
       "malbork         5500.000000      1\n",
       "sopot           9750.000000      1\n",
       "łódź           12000.000000      1\n",
       "budapest       13449.800000      5\n",
       "poznań         13500.000000      3\n",
       "warszawa       14421.052632     19\n",
       "kraków         16000.000000      2\n",
       "krakow         16500.000000      1\n",
       "wroclaw        20160.000000      2\n",
       "zdalna         20596.808036    112\n",
       "gdańsk         21000.000000      1"
      ]
     },
     "execution_count": 6,
     "metadata": {},
     "output_type": "execute_result"
    }
   ],
   "source": [
    "offer_salary_by_city = df.groupby(by=['location_city']).agg({'salary_avg': 'mean', 'name': 'count'})\n",
    "offer_salary_by_city.sort_values(by=['salary_avg'], inplace=True)\n",
    "offer_salary_by_city.rename(columns={'name':'count'}, inplace=True)\n",
    "\n",
    "offer_salary_by_city"
   ]
  },
  {
   "cell_type": "code",
   "execution_count": 7,
   "metadata": {},
   "outputs": [
    {
     "data": {
      "text/plain": [
       "<AxesSubplot:xlabel='location_city'>"
      ]
     },
     "execution_count": 7,
     "metadata": {},
     "output_type": "execute_result"
    },
    {
     "data": {
      "image/png": "[encoded data removed]",
      "text/plain": [
       "<Figure size 432x288 with 1 Axes>"
      ]
     },
     "metadata": {
      "needs_background": "light"
     },
     "output_type": "display_data"
    }
   ],
   "source": [
    "df.pivot_table(index='location_city', columns='job', values='salary_avg').plot(kind='bar')"
   ]
  },
  {
   "cell_type": "code",
   "execution_count": 8,
   "metadata": {},
   "outputs": [
    {
     "data": {
      "text/html": [
       "<div>\n",
       "<style scoped>\n",
       "    .dataframe tbody tr th:only-of-type {\n",
       "        vertical-align: middle;\n",
       "    }\n",
       "\n",
       "    .dataframe tbody tr th {\n",
       "        vertical-align: top;\n",
       "    }\n",
       "\n",
       "    .dataframe thead th {\n",
       "        text-align: right;\n",
       "    }\n",
       "</style>\n",
       "<table border=\"1\" class=\"dataframe\">\n",
       "  <thead>\n",
       "    <tr style=\"text-align: right;\">\n",
       "      <th></th>\n",
       "      <th></th>\n",
       "      <th>salary_avg</th>\n",
       "      <th>name</th>\n",
       "    </tr>\n",
       "    <tr>\n",
       "      <th>job</th>\n",
       "      <th>is_senior</th>\n",
       "      <th></th>\n",
       "      <th></th>\n",
       "    </tr>\n",
       "  </thead>\n",
       "  <tbody>\n",
       "    <tr>\n",
       "      <th rowspan=\"2\" valign=\"top\">data analyst</th>\n",
       "      <th>0</th>\n",
       "      <td>14085.288462</td>\n",
       "      <td>26</td>\n",
       "    </tr>\n",
       "    <tr>\n",
       "      <th>1</th>\n",
       "      <td>20825.000000</td>\n",
       "      <td>2</td>\n",
       "    </tr>\n",
       "    <tr>\n",
       "      <th rowspan=\"2\" valign=\"top\">data engineer</th>\n",
       "      <th>0</th>\n",
       "      <td>19912.444444</td>\n",
       "      <td>81</td>\n",
       "    </tr>\n",
       "    <tr>\n",
       "      <th>1</th>\n",
       "      <td>25534.821429</td>\n",
       "      <td>14</td>\n",
       "    </tr>\n",
       "    <tr>\n",
       "      <th rowspan=\"2\" valign=\"top\">data scientist</th>\n",
       "      <th>0</th>\n",
       "      <td>16537.131579</td>\n",
       "      <td>19</td>\n",
       "    </tr>\n",
       "    <tr>\n",
       "      <th>1</th>\n",
       "      <td>22198.833333</td>\n",
       "      <td>6</td>\n",
       "    </tr>\n",
       "  </tbody>\n",
       "</table>\n",
       "</div>"
      ],
      "text/plain": [
       "                            salary_avg  name\n",
       "job            is_senior                    \n",
       "data analyst   0          14085.288462    26\n",
       "               1          20825.000000     2\n",
       "data engineer  0          19912.444444    81\n",
       "               1          25534.821429    14\n",
       "data scientist 0          16537.131579    19\n",
       "               1          22198.833333     6"
      ]
     },
     "execution_count": 8,
     "metadata": {},
     "output_type": "execute_result"
    }
   ],
   "source": [
    "salary_by_senior = df.groupby(by=['job', 'is_senior']).agg({'salary_avg': 'mean', 'name': 'count'})\n",
    "salary_by_senior"
   ]
  }
 ],
 "metadata": {
  "kernelspec": {
   "display_name": "Python 3.9.2 64-bit ('venv')",
   "metadata": {
    "interpreter": {
     "hash": "1e64b20f688619e2baa7c5cdbdcf9efc5f424a087fdd7f66f3cc23c558ff6b47"
    }
   },
   "name": "python3"
  },
  "language_info": {
   "codemirror_mode": {
    "name": "ipython",
    "version": 3
   },
   "file_extension": ".py",
   "mimetype": "text/x-python",
   "name": "python",
   "nbconvert_exporter": "python",
   "pygments_lexer": "ipython3",
   "version": "3.9.7"
  },
  "orig_nbformat": 2
 },
 "nbformat": 4,
 "nbformat_minor": 2
}
