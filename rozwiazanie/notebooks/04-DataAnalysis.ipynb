{
 "cells": [
  {
   "cell_type": "code",
   "execution_count": 1,
   "metadata": {},
   "outputs": [],
   "source": [
    "import pandas as pd\n",
    "import matplotlib.pyplot as plt"
   ]
  },
  {
   "cell_type": "code",
   "execution_count": 2,
   "metadata": {},
   "outputs": [
    {
     "data": {
      "text/html": [
       "<div>\n",
       "<style scoped>\n",
       "    .dataframe tbody tr th:only-of-type {\n",
       "        vertical-align: middle;\n",
       "    }\n",
       "\n",
       "    .dataframe tbody tr th {\n",
       "        vertical-align: top;\n",
       "    }\n",
       "\n",
       "    .dataframe thead th {\n",
       "        text-align: right;\n",
       "    }\n",
       "</style>\n",
       "<table border=\"1\" class=\"dataframe\">\n",
       "  <thead>\n",
       "    <tr style=\"text-align: right;\">\n",
       "      <th></th>\n",
       "      <th>name</th>\n",
       "      <th>company</th>\n",
       "      <th>technology</th>\n",
       "      <th>job</th>\n",
       "      <th>location.city</th>\n",
       "      <th>location.country</th>\n",
       "      <th>salary.low</th>\n",
       "      <th>salary.high</th>\n",
       "      <th>salary.currency</th>\n",
       "      <th>salary</th>\n",
       "      <th>salary.avg</th>\n",
       "      <th>is_senior</th>\n",
       "    </tr>\n",
       "  </thead>\n",
       "  <tbody>\n",
       "    <tr>\n",
       "      <th>0</th>\n",
       "      <td>product data analyst</td>\n",
       "      <td>No Fluff Jobs</td>\n",
       "      <td>NaN</td>\n",
       "      <td>data analyst</td>\n",
       "      <td>zdalna</td>\n",
       "      <td>B/D</td>\n",
       "      <td>12000.0</td>\n",
       "      <td>18000.0</td>\n",
       "      <td>PLN</td>\n",
       "      <td>NaN</td>\n",
       "      <td>15000.0</td>\n",
       "      <td>0</td>\n",
       "    </tr>\n",
       "    <tr>\n",
       "      <th>1</th>\n",
       "      <td>data analyst (private equity)</td>\n",
       "      <td>Devire</td>\n",
       "      <td>NaN</td>\n",
       "      <td>data analyst</td>\n",
       "      <td>warszawa</td>\n",
       "      <td>POL</td>\n",
       "      <td>12000.0</td>\n",
       "      <td>18000.0</td>\n",
       "      <td>PLN</td>\n",
       "      <td>NaN</td>\n",
       "      <td>15000.0</td>\n",
       "      <td>0</td>\n",
       "    </tr>\n",
       "    <tr>\n",
       "      <th>2</th>\n",
       "      <td>business analyst/senior business analyst</td>\n",
       "      <td>SoftServe</td>\n",
       "      <td>NaN</td>\n",
       "      <td>data analyst</td>\n",
       "      <td>zdalna</td>\n",
       "      <td>B/D</td>\n",
       "      <td>11000.0</td>\n",
       "      <td>21500.0</td>\n",
       "      <td>PLN</td>\n",
       "      <td>NaN</td>\n",
       "      <td>16250.0</td>\n",
       "      <td>0</td>\n",
       "    </tr>\n",
       "    <tr>\n",
       "      <th>3</th>\n",
       "      <td>power bi developer / data analyst</td>\n",
       "      <td>Objectivity</td>\n",
       "      <td>NaN</td>\n",
       "      <td>data analyst</td>\n",
       "      <td>zdalna</td>\n",
       "      <td>B/D</td>\n",
       "      <td>14000.0</td>\n",
       "      <td>20000.0</td>\n",
       "      <td>PLN</td>\n",
       "      <td>NaN</td>\n",
       "      <td>17000.0</td>\n",
       "      <td>0</td>\n",
       "    </tr>\n",
       "    <tr>\n",
       "      <th>4</th>\n",
       "      <td>junior data analyst</td>\n",
       "      <td>Coinfirm</td>\n",
       "      <td>NaN</td>\n",
       "      <td>data analyst</td>\n",
       "      <td>zdalna</td>\n",
       "      <td>B/D</td>\n",
       "      <td>3100.0</td>\n",
       "      <td>5000.0</td>\n",
       "      <td>PLN</td>\n",
       "      <td>NaN</td>\n",
       "      <td>4050.0</td>\n",
       "      <td>0</td>\n",
       "    </tr>\n",
       "  </tbody>\n",
       "</table>\n",
       "</div>"
      ],
      "text/plain": [
       "                                       name        company  technology  \\\n",
       "0                      product data analyst  No Fluff Jobs         NaN   \n",
       "1             data analyst (private equity)         Devire         NaN   \n",
       "2  business analyst/senior business analyst      SoftServe         NaN   \n",
       "3         power bi developer / data analyst    Objectivity         NaN   \n",
       "4                       junior data analyst       Coinfirm         NaN   \n",
       "\n",
       "            job location.city location.country  salary.low  salary.high  \\\n",
       "0  data analyst        zdalna              B/D     12000.0      18000.0   \n",
       "1  data analyst      warszawa              POL     12000.0      18000.0   \n",
       "2  data analyst        zdalna              B/D     11000.0      21500.0   \n",
       "3  data analyst        zdalna              B/D     14000.0      20000.0   \n",
       "4  data analyst        zdalna              B/D      3100.0       5000.0   \n",
       "\n",
       "  salary.currency  salary  salary.avg  is_senior  \n",
       "0             PLN     NaN     15000.0          0  \n",
       "1             PLN     NaN     15000.0          0  \n",
       "2             PLN     NaN     16250.0          0  \n",
       "3             PLN     NaN     17000.0          0  \n",
       "4             PLN     NaN      4050.0          0  "
      ]
     },
     "execution_count": 2,
     "metadata": {},
     "output_type": "execute_result"
    }
   ],
   "source": [
    "df = pd.read_csv(\n",
    "    '../data/processed/job_offers.csv',\n",
    "    sep=';',\n",
    "    encoding='UTF-8')\n",
    "df.head()"
   ]
  },
  {
   "cell_type": "code",
   "execution_count": 3,
   "metadata": {},
   "outputs": [
    {
     "name": "stdout",
     "output_type": "stream",
     "text": [
      "job\n",
      "data analyst           27\n",
      "data engineer          95\n",
      "frontend developer    191\n",
      "java developer        240\n",
      "selenium              104\n",
      "test automation        29\n",
      "dtype: int64\n"
     ]
    },
    {
     "data": {
      "text/plain": [
       "<AxesSubplot:xlabel='job'>"
      ]
     },
     "execution_count": 3,
     "metadata": {},
     "output_type": "execute_result"
    },
    {
     "data": {
      "image/png": "[encoded data removed]",
      "text/plain": [
       "<Figure size 432x288 with 1 Axes>"
      ]
     },
     "metadata": {
      "needs_background": "light"
     },
     "output_type": "display_data"
    }
   ],
   "source": [
    "job_offers = df.groupby(by=['job']).size()\n",
    "\n",
    "print(job_offers)\n",
    "job_offers.plot.bar()"
   ]
  },
  {
   "cell_type": "code",
   "execution_count": 8,
   "metadata": {},
   "outputs": [
    {
     "name": "stdout",
     "output_type": "stream",
     "text": [
      "location.city  job               \n",
      "zdalna         java developer        170\n",
      "               frontend developer    139\n",
      "               selenium               82\n",
      "               data engineer          76\n",
      "warszawa       java developer         26\n",
      "zdalna         data analyst           20\n",
      "               test automation        18\n",
      "warszawa       selenium               11\n",
      "wrocław        java developer         11\n",
      "warszawa       frontend developer     10\n",
      "wrocław        frontend developer     10\n",
      "budapest       java developer          8\n",
      "kraków         frontend developer      7\n",
      "warszawa       data engineer           7\n",
      "               data analyst            6\n",
      "dtype: int64\n"
     ]
    },
    {
     "data": {
      "text/plain": [
       "<AxesSubplot:xlabel='location.city,job'>"
      ]
     },
     "execution_count": 8,
     "metadata": {},
     "output_type": "execute_result"
    },
    {
     "data": {
      "image/png": "[encoded data removed]",
      "text/plain": [
       "<Figure size 432x288 with 1 Axes>"
      ]
     },
     "metadata": {
      "needs_background": "light"
     },
     "output_type": "display_data"
    }
   ],
   "source": [
    "offers_by_city = df.groupby(by=['location.city', 'job']).size().nlargest(15)\n",
    "\n",
    "print(offers_by_city)\n",
    "offers_by_city.sort_values().plot.bar()"
   ]
  },
  {
   "cell_type": "code",
   "execution_count": 10,
   "metadata": {},
   "outputs": [
    {
     "name": "stdout",
     "output_type": "stream",
     "text": [
      "                      salary.avg  count\n",
      "job                                    \n",
      "test automation     14343.844828     29\n",
      "data analyst        14754.351852     27\n",
      "selenium            15303.225962    104\n",
      "frontend developer  15658.086387    191\n",
      "java developer      16921.081250    240\n",
      "data engineer       20741.005263     95\n"
     ]
    },
    {
     "data": {
      "text/plain": [
       "array([[<AxesSubplot:title={'center':'salary.avg'}, xlabel='job'>,\n",
       "        <AxesSubplot:title={'center':'count'}, xlabel='job'>]],\n",
       "      dtype=object)"
      ]
     },
     "execution_count": 10,
     "metadata": {},
     "output_type": "execute_result"
    },
    {
     "data": {
      "image/png": "[encoded data removed]",
      "text/plain": [
       "<Figure size 432x288 with 2 Axes>"
      ]
     },
     "metadata": {
      "needs_background": "light"
     },
     "output_type": "display_data"
    }
   ],
   "source": [
    "offer_salary = df.groupby(by=['job']).agg({'salary.avg': 'mean', 'name': 'count'})\n",
    "offer_salary.sort_values(by=['salary.avg'], inplace=True)\n",
    "offer_salary.rename(columns={'name':'count'}, inplace=True)\n",
    "\n",
    "print(offer_salary)\n",
    "offer_salary.plot(subplots=True, layout=(1, 2), kind='bar')"
   ]
  },
  {
   "cell_type": "code",
   "execution_count": 12,
   "metadata": {},
   "outputs": [
    {
     "data": {
      "text/html": [
       "<div>\n",
       "<style scoped>\n",
       "    .dataframe tbody tr th:only-of-type {\n",
       "        vertical-align: middle;\n",
       "    }\n",
       "\n",
       "    .dataframe tbody tr th {\n",
       "        vertical-align: top;\n",
       "    }\n",
       "\n",
       "    .dataframe thead th {\n",
       "        text-align: right;\n",
       "    }\n",
       "</style>\n",
       "<table border=\"1\" class=\"dataframe\">\n",
       "  <thead>\n",
       "    <tr style=\"text-align: right;\">\n",
       "      <th></th>\n",
       "      <th>salary.avg</th>\n",
       "      <th>count</th>\n",
       "    </tr>\n",
       "    <tr>\n",
       "      <th>location.city</th>\n",
       "      <th></th>\n",
       "      <th></th>\n",
       "    </tr>\n",
       "  </thead>\n",
       "  <tbody>\n",
       "    <tr>\n",
       "      <th>szczecin</th>\n",
       "      <td>3750.000000</td>\n",
       "      <td>1</td>\n",
       "    </tr>\n",
       "    <tr>\n",
       "      <th>mysłowice</th>\n",
       "      <td>5500.000000</td>\n",
       "      <td>1</td>\n",
       "    </tr>\n",
       "    <tr>\n",
       "      <th>bydgoszcz</th>\n",
       "      <td>5500.000000</td>\n",
       "      <td>2</td>\n",
       "    </tr>\n",
       "    <tr>\n",
       "      <th>malbork</th>\n",
       "      <td>5500.000000</td>\n",
       "      <td>1</td>\n",
       "    </tr>\n",
       "    <tr>\n",
       "      <th>rzeszów</th>\n",
       "      <td>6000.000000</td>\n",
       "      <td>1</td>\n",
       "    </tr>\n",
       "    <tr>\n",
       "      <th>częstochowa</th>\n",
       "      <td>7000.000000</td>\n",
       "      <td>1</td>\n",
       "    </tr>\n",
       "    <tr>\n",
       "      <th>opole</th>\n",
       "      <td>8250.000000</td>\n",
       "      <td>1</td>\n",
       "    </tr>\n",
       "    <tr>\n",
       "      <th>szombathely</th>\n",
       "      <td>9584.250000</td>\n",
       "      <td>2</td>\n",
       "    </tr>\n",
       "    <tr>\n",
       "      <th>trzebinia</th>\n",
       "      <td>9750.000000</td>\n",
       "      <td>1</td>\n",
       "    </tr>\n",
       "    <tr>\n",
       "      <th>poznań</th>\n",
       "      <td>11030.000000</td>\n",
       "      <td>12</td>\n",
       "    </tr>\n",
       "    <tr>\n",
       "      <th>budapest</th>\n",
       "      <td>12063.611111</td>\n",
       "      <td>18</td>\n",
       "    </tr>\n",
       "    <tr>\n",
       "      <th>trójmiasto</th>\n",
       "      <td>12723.000000</td>\n",
       "      <td>10</td>\n",
       "    </tr>\n",
       "    <tr>\n",
       "      <th>warszawa</th>\n",
       "      <td>12882.246154</td>\n",
       "      <td>65</td>\n",
       "    </tr>\n",
       "    <tr>\n",
       "      <th>lublin</th>\n",
       "      <td>12925.000000</td>\n",
       "      <td>2</td>\n",
       "    </tr>\n",
       "    <tr>\n",
       "      <th>kraków</th>\n",
       "      <td>13492.921053</td>\n",
       "      <td>19</td>\n",
       "    </tr>\n",
       "    <tr>\n",
       "      <th>katowice</th>\n",
       "      <td>13833.333333</td>\n",
       "      <td>6</td>\n",
       "    </tr>\n",
       "    <tr>\n",
       "      <th>gliwice</th>\n",
       "      <td>13910.000000</td>\n",
       "      <td>2</td>\n",
       "    </tr>\n",
       "    <tr>\n",
       "      <th>łódź</th>\n",
       "      <td>14320.000000</td>\n",
       "      <td>7</td>\n",
       "    </tr>\n",
       "    <tr>\n",
       "      <th>wrocław</th>\n",
       "      <td>16484.400000</td>\n",
       "      <td>25</td>\n",
       "    </tr>\n",
       "    <tr>\n",
       "      <th>zdalna</th>\n",
       "      <td>17918.136634</td>\n",
       "      <td>505</td>\n",
       "    </tr>\n",
       "    <tr>\n",
       "      <th>białystok</th>\n",
       "      <td>18893.333333</td>\n",
       "      <td>3</td>\n",
       "    </tr>\n",
       "    <tr>\n",
       "      <th>debrecen</th>\n",
       "      <td>27300.000000</td>\n",
       "      <td>1</td>\n",
       "    </tr>\n",
       "  </tbody>\n",
       "</table>\n",
       "</div>"
      ],
      "text/plain": [
       "                 salary.avg  count\n",
       "location.city                     \n",
       "szczecin        3750.000000      1\n",
       "mysłowice       5500.000000      1\n",
       "bydgoszcz       5500.000000      2\n",
       "malbork         5500.000000      1\n",
       "rzeszów         6000.000000      1\n",
       "częstochowa     7000.000000      1\n",
       "opole           8250.000000      1\n",
       "szombathely     9584.250000      2\n",
       "trzebinia       9750.000000      1\n",
       "poznań         11030.000000     12\n",
       "budapest       12063.611111     18\n",
       "trójmiasto     12723.000000     10\n",
       "warszawa       12882.246154     65\n",
       "lublin         12925.000000      2\n",
       "kraków         13492.921053     19\n",
       "katowice       13833.333333      6\n",
       "gliwice        13910.000000      2\n",
       "łódź           14320.000000      7\n",
       "wrocław        16484.400000     25\n",
       "zdalna         17918.136634    505\n",
       "białystok      18893.333333      3\n",
       "debrecen       27300.000000      1"
      ]
     },
     "execution_count": 12,
     "metadata": {},
     "output_type": "execute_result"
    }
   ],
   "source": [
    "offer_salary_by_city = df.groupby(by=['location.city']).agg({'salary.avg': 'mean', 'name': 'count'})\n",
    "offer_salary_by_city.sort_values(by=['salary.avg'], inplace=True)\n",
    "offer_salary_by_city.rename(columns={'name':'count'}, inplace=True)\n",
    "\n",
    "offer_salary_by_city"
   ]
  },
  {
   "cell_type": "code",
   "execution_count": 19,
   "metadata": {},
   "outputs": [
    {
     "data": {
      "text/plain": [
       "<AxesSubplot:xlabel='location.city'>"
      ]
     },
     "execution_count": 19,
     "metadata": {},
     "output_type": "execute_result"
    },
    {
     "data": {
      "image/png": "[encoded data removed]",
      "text/plain": [
       "<Figure size 2880x1440 with 1 Axes>"
      ]
     },
     "metadata": {
      "needs_background": "light"
     },
     "output_type": "display_data"
    }
   ],
   "source": [
    "df.pivot_table(index='location.city', columns='job', values='salary.avg').plot(kind='bar', figsize=(40, 20))"
   ]
  },
  {
   "cell_type": "code",
   "execution_count": 14,
   "metadata": {},
   "outputs": [
    {
     "data": {
      "text/html": [
       "<div>\n",
       "<style scoped>\n",
       "    .dataframe tbody tr th:only-of-type {\n",
       "        vertical-align: middle;\n",
       "    }\n",
       "\n",
       "    .dataframe tbody tr th {\n",
       "        vertical-align: top;\n",
       "    }\n",
       "\n",
       "    .dataframe thead th {\n",
       "        text-align: right;\n",
       "    }\n",
       "</style>\n",
       "<table border=\"1\" class=\"dataframe\">\n",
       "  <thead>\n",
       "    <tr style=\"text-align: right;\">\n",
       "      <th></th>\n",
       "      <th></th>\n",
       "      <th>salary.avg</th>\n",
       "      <th>name</th>\n",
       "    </tr>\n",
       "    <tr>\n",
       "      <th>job</th>\n",
       "      <th>is_senior</th>\n",
       "      <th></th>\n",
       "      <th></th>\n",
       "    </tr>\n",
       "  </thead>\n",
       "  <tbody>\n",
       "    <tr>\n",
       "      <th rowspan=\"2\" valign=\"top\">data analyst</th>\n",
       "      <th>0</th>\n",
       "      <td>14268.700000</td>\n",
       "      <td>25</td>\n",
       "    </tr>\n",
       "    <tr>\n",
       "      <th>1</th>\n",
       "      <td>20825.000000</td>\n",
       "      <td>2</td>\n",
       "    </tr>\n",
       "    <tr>\n",
       "      <th rowspan=\"2\" valign=\"top\">data engineer</th>\n",
       "      <th>0</th>\n",
       "      <td>19912.444444</td>\n",
       "      <td>81</td>\n",
       "    </tr>\n",
       "    <tr>\n",
       "      <th>1</th>\n",
       "      <td>25534.821429</td>\n",
       "      <td>14</td>\n",
       "    </tr>\n",
       "    <tr>\n",
       "      <th rowspan=\"2\" valign=\"top\">frontend developer</th>\n",
       "      <th>0</th>\n",
       "      <td>14730.438235</td>\n",
       "      <td>170</td>\n",
       "    </tr>\n",
       "    <tr>\n",
       "      <th>1</th>\n",
       "      <td>23167.619048</td>\n",
       "      <td>21</td>\n",
       "    </tr>\n",
       "    <tr>\n",
       "      <th rowspan=\"2\" valign=\"top\">java developer</th>\n",
       "      <th>0</th>\n",
       "      <td>16421.792627</td>\n",
       "      <td>217</td>\n",
       "    </tr>\n",
       "    <tr>\n",
       "      <th>1</th>\n",
       "      <td>21631.760870</td>\n",
       "      <td>23</td>\n",
       "    </tr>\n",
       "    <tr>\n",
       "      <th rowspan=\"2\" valign=\"top\">selenium</th>\n",
       "      <th>0</th>\n",
       "      <td>14845.258427</td>\n",
       "      <td>89</td>\n",
       "    </tr>\n",
       "    <tr>\n",
       "      <th>1</th>\n",
       "      <td>18020.500000</td>\n",
       "      <td>15</td>\n",
       "    </tr>\n",
       "    <tr>\n",
       "      <th rowspan=\"2\" valign=\"top\">test automation</th>\n",
       "      <th>0</th>\n",
       "      <td>13872.538462</td>\n",
       "      <td>26</td>\n",
       "    </tr>\n",
       "    <tr>\n",
       "      <th>1</th>\n",
       "      <td>18428.500000</td>\n",
       "      <td>3</td>\n",
       "    </tr>\n",
       "  </tbody>\n",
       "</table>\n",
       "</div>"
      ],
      "text/plain": [
       "                                salary.avg  name\n",
       "job                is_senior                    \n",
       "data analyst       0          14268.700000    25\n",
       "                   1          20825.000000     2\n",
       "data engineer      0          19912.444444    81\n",
       "                   1          25534.821429    14\n",
       "frontend developer 0          14730.438235   170\n",
       "                   1          23167.619048    21\n",
       "java developer     0          16421.792627   217\n",
       "                   1          21631.760870    23\n",
       "selenium           0          14845.258427    89\n",
       "                   1          18020.500000    15\n",
       "test automation    0          13872.538462    26\n",
       "                   1          18428.500000     3"
      ]
     },
     "execution_count": 14,
     "metadata": {},
     "output_type": "execute_result"
    }
   ],
   "source": [
    "salary_by_senior = df.groupby(by=['job', 'is_senior']).agg({'salary.avg': 'mean', 'name': 'count'})\n",
    "salary_by_senior"
   ]
  }
 ],
 "metadata": {
  "kernelspec": {
   "display_name": "Python 3 (ipykernel)",
   "language": "python",
   "name": "python3"
  },
  "language_info": {
   "codemirror_mode": {
    "name": "ipython",
    "version": 3
   },
   "file_extension": ".py",
   "mimetype": "text/x-python",
   "name": "python",
   "nbconvert_exporter": "python",
   "pygments_lexer": "ipython3",
   "version": "3.9.7"
  }
 },
 "nbformat": 4,
 "nbformat_minor": 4
}
