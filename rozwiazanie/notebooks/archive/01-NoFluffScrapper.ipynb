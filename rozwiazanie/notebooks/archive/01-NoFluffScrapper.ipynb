{
 "cells": [
  {
   "cell_type": "code",
   "execution_count": 1,
   "metadata": {},
   "outputs": [],
   "source": [
    "# importujemy wymagane biblioteki\n",
    "import requests\n",
    "\n",
    "from bs4 import BeautifulSoup\n",
    "from time import sleep\n",
    "from selenium.webdriver import Firefox"
   ]
  },
  {
   "cell_type": "code",
   "execution_count": 2,
   "metadata": {},
   "outputs": [],
   "source": [
    "def download_page(page_number: int, job_name: str, browser) -> BeautifulSoup:\n",
    "    url = 'https://nofluffjobs.com/pl/jobs?criteria={job_name}&page={page_number}'\n",
    "    browser.get(url.format(\n",
    "        job_name=job_name,\n",
    "        page_number=page_number)\n",
    "        )\n",
    "    html = browser.page_source\n",
    "\n",
    "    return BeautifulSoup(html)"
   ]
  },
  {
   "cell_type": "code",
   "execution_count": 3,
   "metadata": {},
   "outputs": [],
   "source": [
    "def is_empty_page(page) -> bool:\n",
    "    \"\"\"\n",
    "    Sprawdza czy strona jest pusta\n",
    "    \"\"\"\n",
    "    empty_condition = page.find('h2', class_='text-white font-weight-bold')\n",
    "\n",
    "    if empty_condition is None:\n",
    "        return False\n",
    "    else:\n",
    "        return True"
   ]
  },
  {
   "cell_type": "code",
   "execution_count": 4,
   "metadata": {},
   "outputs": [],
   "source": [
    "def get_page_jobs(page) -> list:\n",
    "    \"\"\"\n",
    "    Ze strony głównej NoFluffJobs pobiera listę ofer pracy i zwraca list zawieracjącą słownik {job_id, job_url}\n",
    "\n",
    "    @param page: BeufitifulSoup strony\n",
    "    @returns: lista ze słownikami {job_id, job_url}\n",
    "    \"\"\"\n",
    "\n",
    "    # upewniamy się, że strona nie jest pusta\n",
    "    if is_empty_page(page):\n",
    "        return []\n",
    "\n",
    "    # znajdujemy oferty pracy dostępne na stronie (przykład znalezienie)\n",
    "    # poprzez znalezienie obrazka oraz jego rodzica\n",
    "    jobs = [x.parent for x in page.find_all('div', class_='posting-image')]\n",
    "\n",
    "    result = []  # zmienna z informacjami wyjściowymi\n",
    "    for job in jobs:\n",
    "        id = job['id']  # id oferty\n",
    "        url = job['href']  # url do oferty\n",
    "\n",
    "        # dodajemy informacje do zmiennej wynikowej\n",
    "        result.append({'job_id': id, 'job_url': url})\n",
    "\n",
    "    return result"
   ]
  },
  {
   "cell_type": "code",
   "execution_count": 5,
   "metadata": {},
   "outputs": [],
   "source": [
    "def get_job_offers(job_name: str) -> list:\n",
    "    \"\"\"\n",
    "    Pobiera aktualnie dostępne oferty pracy dla danego zapytania\n",
    "\n",
    "    @param job_name: zapytanie, które chcemy przeszukać\n",
    "    @returns: lista z ofertami pracy\n",
    "    \"\"\"\n",
    "\n",
    "    results = []  # zmienna z listą ofert dla danego zapytania\n",
    "    page_number = 1\n",
    "\n",
    "    # będziemy wykonywać pętle tak długo, aż nie trafimy na pustą stronę\n",
    "    while True:  \n",
    "                # pobieramy dane dla danego zawodu oraz strony\n",
    "        bs = download_page(\n",
    "            job_name=job_name,\n",
    "            page_number=page_number)\n",
    "        \n",
    "        # sprawdzamy czy strona nie jest pusta\n",
    "        if is_empty_page(bs):\n",
    "            break\n",
    "\n",
    "        # pobieramy informacje o ofertach pracy\n",
    "        page_jobs = get_page_jobs(bs)\n",
    "        results += page_jobs\n",
    "\n",
    "        page_number +=1  # przechodzimy do kolejnej strony\n",
    "        sleep(5)  # czekamy 5 sekund przed kolejnym odpytaniem\n",
    "\n",
    "    return results"
   ]
  },
  {
   "cell_type": "code",
   "execution_count": null,
   "metadata": {},
   "outputs": [],
   "source": [
    "jobs = ['data analyst', 'data engineer', 'data scientist', 'python developer']"
   ]
  },
  {
   "cell_type": "code",
   "execution_count": 9,
   "metadata": {},
   "outputs": [],
   "source": [
    "bs = download_page(\n",
    "            job_name=jobs[0],\n",
    "            page_number=1,\n",
    "            browser=browser)\n",
    "page_jobs = get_page_jobs(bs)\n",
    "browser.close()"
   ]
  },
  {
   "cell_type": "code",
   "execution_count": 10,
   "metadata": {},
   "outputs": [],
   "source": []
  },
  {
   "cell_type": "code",
   "execution_count": 11,
   "metadata": {},
   "outputs": [
    {
     "output_type": "execute_result",
     "data": {
      "text/plain": [
       "[{'job_id': 'nfjPostingListItem-D4MZE0LO',\n",
       "  'job_url': '/pl/job/senior-data-scientist-smartpatient-business-services-warszawa-d4mze0lo'},\n",
       " {'job_id': 'nfjPostingListItem-UY4LN9HN',\n",
       "  'job_url': '/pl/job/data-engineer-mid-senior-smartpatient-business-services-warszawa-uy4ln9hn'},\n",
       " {'job_id': 'nfjPostingListItem-MV1QMQOT',\n",
       "  'job_url': '/pl/job/sas-developer-scs-expert-warszawa-mv1qmqot'},\n",
       " {'job_id': 'nfjPostingListItem-YZUNAFAQ',\n",
       "  'job_url': '/pl/job/data-analyst-iiit-warszawa-yzunafaq'},\n",
       " {'job_id': 'nfjPostingListItem-QHPKI9KC',\n",
       "  'job_url': '/pl/job/senior-data-scientist-upc-polska-remote-qhpki9kc'},\n",
       " {'job_id': 'nfjPostingListItem-OE1P5TKN',\n",
       "  'job_url': '/pl/job/dataops-tech-lead-iiit-remote-oe1p5tkn'},\n",
       " {'job_id': 'nfjPostingListItem-VSGLQQR1',\n",
       "  'job_url': '/pl/job/senior-ppc-specialist-no-fluff-jobs-remote-vsglqqr1'},\n",
       " {'job_id': 'nfjPostingListItem-FWV28VKW',\n",
       "  'job_url': '/pl/job/technical-product-devops-kyp-ai-remote-fwv28vkw'},\n",
       " {'job_id': 'nfjPostingListItem-H1BHNV9G',\n",
       "  'job_url': '/pl/job/data-engineer-stx-next-remote-h1bhnv9g'},\n",
       " {'job_id': 'nfjPostingListItem-IVQRU8SQ',\n",
       "  'job_url': '/pl/job/data-scientist-gfk-polonia-warszawa-ivqru8sq'},\n",
       " {'job_id': 'nfjPostingListItem-DWDTZ61N',\n",
       "  'job_url': '/pl/job/senior-c-azure-developer-globallogic-remote-dwdtz61n'},\n",
       " {'job_id': 'nfjPostingListItem-HKDTR6UB',\n",
       "  'job_url': '/pl/job/product-owner-solid-bridge-solutions-warszawa-hkdtr6ub'},\n",
       " {'job_id': 'nfjPostingListItem-09CUZBH6',\n",
       "  'job_url': '/pl/job/data-engineer-ai-avanade-poland-krakow-09cuzbh6'},\n",
       " {'job_id': 'nfjPostingListItem-2NADVPC5',\n",
       "  'job_url': '/pl/job/business-analyst-qlogix-krakow-2nadvpc5'},\n",
       " {'job_id': 'nfjPostingListItem-DHQEUTSC',\n",
       "  'job_url': '/pl/job/senior-product-manager-precursive-ltd-remote-dhqeutsc'},\n",
       " {'job_id': 'nfjPostingListItem-SVEPV3SQ',\n",
       "  'job_url': '/pl/job/product-owner-atsi-team-stepstone-services-warszawa-svepv3sq'},\n",
       " {'job_id': 'nfjPostingListItem-Z3OL3U9F',\n",
       "  'job_url': '/pl/job/technical-solutions-specialist-np-rtb-house-remote-z3ol3u9f'},\n",
       " {'job_id': 'nfjPostingListItem-J0ELOBGG',\n",
       "  'job_url': '/pl/job/data-analytics-implementation-specialist-iiit-remote-j0elobgg'},\n",
       " {'job_id': 'nfjPostingListItem-LYLZ60XW',\n",
       "  'job_url': '/pl/job/senior-data-scientist-silent-eight-pte-ltd-remote-lylz60xw'},\n",
       " {'job_id': 'nfjPostingListItem-XBVBPPSB',\n",
       "  'job_url': '/pl/job/pre-sales-techniczny-konsultant-mds-advanced-program-tech-warsaw-xbvbppsb'}]"
      ]
     },
     "metadata": {},
     "execution_count": 11
    }
   ],
   "source": [
    "page_jobs"
   ]
  }
 ],
 "metadata": {
  "kernelspec": {
   "display_name": "workshops",
   "language": "python",
   "name": "workshops"
  },
  "language_info": {
   "codemirror_mode": {
    "name": "ipython",
    "version": 3
   },
   "file_extension": ".py",
   "mimetype": "text/x-python",
   "name": "python",
   "nbconvert_exporter": "python",
   "pygments_lexer": "ipython3",
   "version": "3.9.2-final"
  },
  "orig_nbformat": 2
 },
 "nbformat": 4,
 "nbformat_minor": 2
}