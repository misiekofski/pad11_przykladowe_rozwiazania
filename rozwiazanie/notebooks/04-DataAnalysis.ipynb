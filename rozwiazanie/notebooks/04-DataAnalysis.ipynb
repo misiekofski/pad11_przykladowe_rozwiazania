{
 "cells": [
  {
   "cell_type": "code",
   "execution_count": 1,
   "metadata": {},
   "outputs": [],
   "source": [
    "import pandas as pd\n",
    "import matplotlib.pyplot as plt"
   ]
  },
  {
   "cell_type": "code",
   "execution_count": 2,
   "metadata": {},
   "outputs": [
    {
     "data": {
      "text/html": [
       "<div>\n",
       "<style scoped>\n",
       "    .dataframe tbody tr th:only-of-type {\n",
       "        vertical-align: middle;\n",
       "    }\n",
       "\n",
       "    .dataframe tbody tr th {\n",
       "        vertical-align: top;\n",
       "    }\n",
       "\n",
       "    .dataframe thead th {\n",
       "        text-align: right;\n",
       "    }\n",
       "</style>\n",
       "<table border=\"1\" class=\"dataframe\">\n",
       "  <thead>\n",
       "    <tr style=\"text-align: right;\">\n",
       "      <th></th>\n",
       "      <th>name</th>\n",
       "      <th>company</th>\n",
       "      <th>technology</th>\n",
       "      <th>job</th>\n",
       "      <th>location.city</th>\n",
       "      <th>location.country</th>\n",
       "      <th>salary.low</th>\n",
       "      <th>salary.high</th>\n",
       "      <th>salary.currency</th>\n",
       "      <th>salary</th>\n",
       "      <th>salary_avg</th>\n",
       "      <th>is_senior</th>\n",
       "    </tr>\n",
       "  </thead>\n",
       "  <tbody>\n",
       "    <tr>\n",
       "      <th>0</th>\n",
       "      <td>data engineer (microsoft)</td>\n",
       "      <td>Onelo S.A.</td>\n",
       "      <td>NaN</td>\n",
       "      <td>data engineer</td>\n",
       "      <td>zdalna</td>\n",
       "      <td>B/D</td>\n",
       "      <td>13650.0</td>\n",
       "      <td>17850.0</td>\n",
       "      <td>PLN</td>\n",
       "      <td>NaN</td>\n",
       "      <td>15750.0</td>\n",
       "      <td>0</td>\n",
       "    </tr>\n",
       "    <tr>\n",
       "      <th>1</th>\n",
       "      <td>data engineer</td>\n",
       "      <td>Phorest</td>\n",
       "      <td>NaN</td>\n",
       "      <td>data engineer</td>\n",
       "      <td>zdalna</td>\n",
       "      <td>B/D</td>\n",
       "      <td>16773.0</td>\n",
       "      <td>23962.0</td>\n",
       "      <td>PLN</td>\n",
       "      <td>NaN</td>\n",
       "      <td>20367.5</td>\n",
       "      <td>0</td>\n",
       "    </tr>\n",
       "    <tr>\n",
       "      <th>2</th>\n",
       "      <td>data engineer</td>\n",
       "      <td>Ringier Axel Springer Tech</td>\n",
       "      <td>NaN</td>\n",
       "      <td>data engineer</td>\n",
       "      <td>zdalna</td>\n",
       "      <td>B/D</td>\n",
       "      <td>10100.0</td>\n",
       "      <td>16900.0</td>\n",
       "      <td>PLN</td>\n",
       "      <td>NaN</td>\n",
       "      <td>13500.0</td>\n",
       "      <td>0</td>\n",
       "    </tr>\n",
       "    <tr>\n",
       "      <th>3</th>\n",
       "      <td>scala big data engineer</td>\n",
       "      <td>VirtusLab</td>\n",
       "      <td>NaN</td>\n",
       "      <td>data engineer</td>\n",
       "      <td>zdalna</td>\n",
       "      <td>B/D</td>\n",
       "      <td>15000.0</td>\n",
       "      <td>22000.0</td>\n",
       "      <td>PLN</td>\n",
       "      <td>NaN</td>\n",
       "      <td>18500.0</td>\n",
       "      <td>0</td>\n",
       "    </tr>\n",
       "    <tr>\n",
       "      <th>4</th>\n",
       "      <td>software engineer (scala) | big data</td>\n",
       "      <td>Adform Sp. z o.o.</td>\n",
       "      <td>NaN</td>\n",
       "      <td>data engineer</td>\n",
       "      <td>zdalna</td>\n",
       "      <td>B/D</td>\n",
       "      <td>18000.0</td>\n",
       "      <td>21000.0</td>\n",
       "      <td>PLN</td>\n",
       "      <td>NaN</td>\n",
       "      <td>19500.0</td>\n",
       "      <td>0</td>\n",
       "    </tr>\n",
       "  </tbody>\n",
       "</table>\n",
       "</div>"
      ],
      "text/plain": [
       "                                   name                     company  \\\n",
       "0             data engineer (microsoft)                  Onelo S.A.   \n",
       "1                         data engineer                     Phorest   \n",
       "2                         data engineer  Ringier Axel Springer Tech   \n",
       "3               scala big data engineer                   VirtusLab   \n",
       "4  software engineer (scala) | big data           Adform Sp. z o.o.   \n",
       "\n",
       "   technology            job location.city location.country  salary.low  \\\n",
       "0         NaN  data engineer        zdalna              B/D     13650.0   \n",
       "1         NaN  data engineer        zdalna              B/D     16773.0   \n",
       "2         NaN  data engineer        zdalna              B/D     10100.0   \n",
       "3         NaN  data engineer        zdalna              B/D     15000.0   \n",
       "4         NaN  data engineer        zdalna              B/D     18000.0   \n",
       "\n",
       "   salary.high salary.currency  salary  salary_avg  is_senior  \n",
       "0      17850.0             PLN     NaN     15750.0          0  \n",
       "1      23962.0             PLN     NaN     20367.5          0  \n",
       "2      16900.0             PLN     NaN     13500.0          0  \n",
       "3      22000.0             PLN     NaN     18500.0          0  \n",
       "4      21000.0             PLN     NaN     19500.0          0  "
      ]
     },
     "execution_count": 2,
     "metadata": {},
     "output_type": "execute_result"
    }
   ],
   "source": [
    "df = pd.read_csv(\n",
    "    '../data/processed/job_offers.csv',\n",
    "    sep=';',\n",
    "    encoding='UTF-8')\n",
    "df.head()"
   ]
  },
  {
   "cell_type": "code",
   "execution_count": 3,
   "metadata": {},
   "outputs": [
    {
     "name": "stdout",
     "output_type": "stream",
     "text": [
      "job\n",
      "data engineer       95\n",
      "java developer     240\n",
      "selenium           104\n",
      "test automation     29\n",
      "dtype: int64\n"
     ]
    },
    {
     "data": {
      "text/plain": [
       "<AxesSubplot:xlabel='job'>"
      ]
     },
     "execution_count": 3,
     "metadata": {},
     "output_type": "execute_result"
    },
    {
     "data": {
      "image/png": "[encoded data removed]",
      "text/plain": [
       "<Figure size 432x288 with 1 Axes>"
      ]
     },
     "metadata": {
      "needs_background": "light"
     },
     "output_type": "display_data"
    }
   ],
   "source": [
    "job_offers = df.groupby(by=['job']).size()\n",
    "\n",
    "print(job_offers)\n",
    "job_offers.plot.bar()"
   ]
  },
  {
   "cell_type": "code",
   "execution_count": 4,
   "metadata": {},
   "outputs": [
    {
     "name": "stdout",
     "output_type": "stream",
     "text": [
      "location.city  job            \n",
      "białystok      java developer       3\n",
      "budapest       data engineer        4\n",
      "               java developer       8\n",
      "               selenium             2\n",
      "               test automation      1\n",
      "bydgoszcz      java developer       2\n",
      "debrecen       java developer       1\n",
      "gdańsk         data engineer        1\n",
      "               java developer       3\n",
      "               test automation      1\n",
      "gdynia         selenium             1\n",
      "katowice       java developer       1\n",
      "               selenium             2\n",
      "               test automation      1\n",
      "krakow         data engineer        1\n",
      "kraków         data engineer        1\n",
      "               java developer       5\n",
      "               selenium             3\n",
      "               test automation      1\n",
      "malbork        data engineer        1\n",
      "poznań         data engineer        3\n",
      "               java developer       4\n",
      "szczecin       selenium             1\n",
      "trójmiasto     java developer       1\n",
      "warszawa       data engineer        7\n",
      "               java developer      26\n",
      "               selenium            11\n",
      "               test automation      5\n",
      "wrocław        data engineer        1\n",
      "               java developer      11\n",
      "               selenium             1\n",
      "               test automation      2\n",
      "zdalna         data engineer       76\n",
      "               java developer     170\n",
      "               selenium            82\n",
      "               test automation     18\n",
      "łódź           java developer       5\n",
      "               selenium             1\n",
      "dtype: int64\n"
     ]
    },
    {
     "data": {
      "text/plain": [
       "<AxesSubplot:xlabel='location.city,job'>"
      ]
     },
     "execution_count": 4,
     "metadata": {},
     "output_type": "execute_result"
    },
    {
     "data": {
      "image/png": "[encoded data removed]",
      "text/plain": [
       "<Figure size 432x288 with 1 Axes>"
      ]
     },
     "metadata": {
      "needs_background": "light"
     },
     "output_type": "display_data"
    }
   ],
   "source": [
    "offers_by_city = df.groupby(by=['location.city', 'job']).size()\n",
    "\n",
    "print(offers_by_city)\n",
    "offers_by_city.sort_values().plot.bar()"
   ]
  },
  {
   "cell_type": "code",
   "execution_count": 5,
   "metadata": {},
   "outputs": [
    {
     "name": "stdout",
     "output_type": "stream",
     "text": [
      "                   salary_avg  count\n",
      "job                                 \n",
      "test automation  14343.844828     29\n",
      "selenium         15303.225962    104\n",
      "java developer   16921.081250    240\n",
      "data engineer    20741.005263     95\n"
     ]
    },
    {
     "data": {
      "text/plain": [
       "array([[<AxesSubplot:title={'center':'salary_avg'}, xlabel='job'>,\n",
       "        <AxesSubplot:title={'center':'count'}, xlabel='job'>]],\n",
       "      dtype=object)"
      ]
     },
     "execution_count": 5,
     "metadata": {},
     "output_type": "execute_result"
    },
    {
     "data": {
      "image/png": "[encoded data removed]",
      "text/plain": [
       "<Figure size 432x288 with 2 Axes>"
      ]
     },
     "metadata": {
      "needs_background": "light"
     },
     "output_type": "display_data"
    }
   ],
   "source": [
    "offer_salary = df.groupby(by=['job']).agg({'salary_avg': 'mean', 'name': 'count'})\n",
    "offer_salary.sort_values(by=['salary_avg'], inplace=True)\n",
    "offer_salary.rename(columns={'name':'count'}, inplace=True)\n",
    "\n",
    "print(offer_salary)\n",
    "offer_salary.plot(subplots=True, layout=(1, 2), kind='bar')"
   ]
  },
  {
   "cell_type": "code",
   "execution_count": 6,
   "metadata": {},
   "outputs": [
    {
     "data": {
      "text/html": [
       "<div>\n",
       "<style scoped>\n",
       "    .dataframe tbody tr th:only-of-type {\n",
       "        vertical-align: middle;\n",
       "    }\n",
       "\n",
       "    .dataframe tbody tr th {\n",
       "        vertical-align: top;\n",
       "    }\n",
       "\n",
       "    .dataframe thead th {\n",
       "        text-align: right;\n",
       "    }\n",
       "</style>\n",
       "<table border=\"1\" class=\"dataframe\">\n",
       "  <thead>\n",
       "    <tr style=\"text-align: right;\">\n",
       "      <th></th>\n",
       "      <th>salary_avg</th>\n",
       "      <th>count</th>\n",
       "    </tr>\n",
       "    <tr>\n",
       "      <th>location.city</th>\n",
       "      <th></th>\n",
       "      <th></th>\n",
       "    </tr>\n",
       "  </thead>\n",
       "  <tbody>\n",
       "    <tr>\n",
       "      <th>szczecin</th>\n",
       "      <td>3750.000000</td>\n",
       "      <td>1</td>\n",
       "    </tr>\n",
       "    <tr>\n",
       "      <th>bydgoszcz</th>\n",
       "      <td>5500.000000</td>\n",
       "      <td>2</td>\n",
       "    </tr>\n",
       "    <tr>\n",
       "      <th>malbork</th>\n",
       "      <td>5500.000000</td>\n",
       "      <td>1</td>\n",
       "    </tr>\n",
       "    <tr>\n",
       "      <th>gdańsk</th>\n",
       "      <td>11650.000000</td>\n",
       "      <td>5</td>\n",
       "    </tr>\n",
       "    <tr>\n",
       "      <th>poznań</th>\n",
       "      <td>12357.142857</td>\n",
       "      <td>7</td>\n",
       "    </tr>\n",
       "    <tr>\n",
       "      <th>kraków</th>\n",
       "      <td>12386.550000</td>\n",
       "      <td>10</td>\n",
       "    </tr>\n",
       "    <tr>\n",
       "      <th>budapest</th>\n",
       "      <td>12758.466667</td>\n",
       "      <td>15</td>\n",
       "    </tr>\n",
       "    <tr>\n",
       "      <th>warszawa</th>\n",
       "      <td>12797.142857</td>\n",
       "      <td>49</td>\n",
       "    </tr>\n",
       "    <tr>\n",
       "      <th>katowice</th>\n",
       "      <td>12875.000000</td>\n",
       "      <td>4</td>\n",
       "    </tr>\n",
       "    <tr>\n",
       "      <th>wrocław</th>\n",
       "      <td>14904.666667</td>\n",
       "      <td>15</td>\n",
       "    </tr>\n",
       "    <tr>\n",
       "      <th>łódź</th>\n",
       "      <td>15123.333333</td>\n",
       "      <td>6</td>\n",
       "    </tr>\n",
       "    <tr>\n",
       "      <th>krakow</th>\n",
       "      <td>16500.000000</td>\n",
       "      <td>1</td>\n",
       "    </tr>\n",
       "    <tr>\n",
       "      <th>trójmiasto</th>\n",
       "      <td>17000.000000</td>\n",
       "      <td>1</td>\n",
       "    </tr>\n",
       "    <tr>\n",
       "      <th>gdynia</th>\n",
       "      <td>18480.000000</td>\n",
       "      <td>1</td>\n",
       "    </tr>\n",
       "    <tr>\n",
       "      <th>zdalna</th>\n",
       "      <td>18583.495665</td>\n",
       "      <td>346</td>\n",
       "    </tr>\n",
       "    <tr>\n",
       "      <th>białystok</th>\n",
       "      <td>18893.333333</td>\n",
       "      <td>3</td>\n",
       "    </tr>\n",
       "    <tr>\n",
       "      <th>debrecen</th>\n",
       "      <td>27300.000000</td>\n",
       "      <td>1</td>\n",
       "    </tr>\n",
       "  </tbody>\n",
       "</table>\n",
       "</div>"
      ],
      "text/plain": [
       "                 salary_avg  count\n",
       "location.city                     \n",
       "szczecin        3750.000000      1\n",
       "bydgoszcz       5500.000000      2\n",
       "malbork         5500.000000      1\n",
       "gdańsk         11650.000000      5\n",
       "poznań         12357.142857      7\n",
       "kraków         12386.550000     10\n",
       "budapest       12758.466667     15\n",
       "warszawa       12797.142857     49\n",
       "katowice       12875.000000      4\n",
       "wrocław        14904.666667     15\n",
       "łódź           15123.333333      6\n",
       "krakow         16500.000000      1\n",
       "trójmiasto     17000.000000      1\n",
       "gdynia         18480.000000      1\n",
       "zdalna         18583.495665    346\n",
       "białystok      18893.333333      3\n",
       "debrecen       27300.000000      1"
      ]
     },
     "execution_count": 6,
     "metadata": {},
     "output_type": "execute_result"
    }
   ],
   "source": [
    "offer_salary_by_city = df.groupby(by=['location.city']).agg({'salary_avg': 'mean', 'name': 'count'})\n",
    "offer_salary_by_city.sort_values(by=['salary_avg'], inplace=True)\n",
    "offer_salary_by_city.rename(columns={'name':'count'}, inplace=True)\n",
    "\n",
    "offer_salary_by_city"
   ]
  },
  {
   "cell_type": "code",
   "execution_count": 7,
   "metadata": {},
   "outputs": [
    {
     "data": {
      "text/plain": [
       "<AxesSubplot:xlabel='location.city'>"
      ]
     },
     "execution_count": 7,
     "metadata": {},
     "output_type": "execute_result"
    },
    {
     "data": {
      "image/png": "[encoded data removed]",
      "text/plain": [
       "<Figure size 432x288 with 1 Axes>"
      ]
     },
     "metadata": {
      "needs_background": "light"
     },
     "output_type": "display_data"
    }
   ],
   "source": [
    "df.pivot_table(index='location.city', columns='job', values='salary_avg').plot(kind='bar')"
   ]
  },
  {
   "cell_type": "code",
   "execution_count": 8,
   "metadata": {},
   "outputs": [
    {
     "data": {
      "text/html": [
       "<div>\n",
       "<style scoped>\n",
       "    .dataframe tbody tr th:only-of-type {\n",
       "        vertical-align: middle;\n",
       "    }\n",
       "\n",
       "    .dataframe tbody tr th {\n",
       "        vertical-align: top;\n",
       "    }\n",
       "\n",
       "    .dataframe thead th {\n",
       "        text-align: right;\n",
       "    }\n",
       "</style>\n",
       "<table border=\"1\" class=\"dataframe\">\n",
       "  <thead>\n",
       "    <tr style=\"text-align: right;\">\n",
       "      <th></th>\n",
       "      <th></th>\n",
       "      <th>salary_avg</th>\n",
       "      <th>name</th>\n",
       "    </tr>\n",
       "    <tr>\n",
       "      <th>job</th>\n",
       "      <th>is_senior</th>\n",
       "      <th></th>\n",
       "      <th></th>\n",
       "    </tr>\n",
       "  </thead>\n",
       "  <tbody>\n",
       "    <tr>\n",
       "      <th rowspan=\"2\" valign=\"top\">data engineer</th>\n",
       "      <th>0</th>\n",
       "      <td>19912.444444</td>\n",
       "      <td>81</td>\n",
       "    </tr>\n",
       "    <tr>\n",
       "      <th>1</th>\n",
       "      <td>25534.821429</td>\n",
       "      <td>14</td>\n",
       "    </tr>\n",
       "    <tr>\n",
       "      <th rowspan=\"2\" valign=\"top\">java developer</th>\n",
       "      <th>0</th>\n",
       "      <td>16421.792627</td>\n",
       "      <td>217</td>\n",
       "    </tr>\n",
       "    <tr>\n",
       "      <th>1</th>\n",
       "      <td>21631.760870</td>\n",
       "      <td>23</td>\n",
       "    </tr>\n",
       "    <tr>\n",
       "      <th rowspan=\"2\" valign=\"top\">selenium</th>\n",
       "      <th>0</th>\n",
       "      <td>14845.258427</td>\n",
       "      <td>89</td>\n",
       "    </tr>\n",
       "    <tr>\n",
       "      <th>1</th>\n",
       "      <td>18020.500000</td>\n",
       "      <td>15</td>\n",
       "    </tr>\n",
       "    <tr>\n",
       "      <th rowspan=\"2\" valign=\"top\">test automation</th>\n",
       "      <th>0</th>\n",
       "      <td>13872.538462</td>\n",
       "      <td>26</td>\n",
       "    </tr>\n",
       "    <tr>\n",
       "      <th>1</th>\n",
       "      <td>18428.500000</td>\n",
       "      <td>3</td>\n",
       "    </tr>\n",
       "  </tbody>\n",
       "</table>\n",
       "</div>"
      ],
      "text/plain": [
       "                             salary_avg  name\n",
       "job             is_senior                    \n",
       "data engineer   0          19912.444444    81\n",
       "                1          25534.821429    14\n",
       "java developer  0          16421.792627   217\n",
       "                1          21631.760870    23\n",
       "selenium        0          14845.258427    89\n",
       "                1          18020.500000    15\n",
       "test automation 0          13872.538462    26\n",
       "                1          18428.500000     3"
      ]
     },
     "execution_count": 8,
     "metadata": {},
     "output_type": "execute_result"
    }
   ],
   "source": [
    "salary_by_senior = df.groupby(by=['job', 'is_senior']).agg({'salary_avg': 'mean', 'name': 'count'})\n",
    "salary_by_senior"
   ]
  }
 ],
 "metadata": {
  "kernelspec": {
   "display_name": "Python 3 (ipykernel)",
   "language": "python",
   "name": "python3"
  },
  "language_info": {
   "codemirror_mode": {
    "name": "ipython",
    "version": 3
   },
   "file_extension": ".py",
   "mimetype": "text/x-python",
   "name": "python",
   "nbconvert_exporter": "python",
   "pygments_lexer": "ipython3",
   "version": "3.9.7"
  }
 },
 "nbformat": 4,
 "nbformat_minor": 4
}
