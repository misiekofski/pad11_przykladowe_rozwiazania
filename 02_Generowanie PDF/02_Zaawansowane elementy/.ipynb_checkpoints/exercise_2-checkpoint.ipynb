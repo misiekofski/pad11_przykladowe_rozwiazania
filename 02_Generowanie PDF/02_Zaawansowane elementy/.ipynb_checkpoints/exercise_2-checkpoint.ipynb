{
 "cells": [
  {
   "cell_type": "markdown",
   "id": "controlling-hepatitis",
   "metadata": {},
   "source": [
    "Napisz skrypt, który wygeneruje prosty dokument - protokół przekazania sprzętu. Aktualną datę pobierz automatycznie, pozostałe informacje pobierz ze zmiennych zdefiniowanych poniżej. Poszczególne elementy ostyluj wedle własnego uznania. Dokument zapisz jako `protokol.pdf`.\n",
    "\n",
    "Wzór dokumentu:\n",
    "```\n",
    "                                MIEJSCOWOŚĆ, DATA\n",
    "            Protokół przekazania sprzętu\n",
    "\n",
    "Przekazujący:\n",
    "NAZWA FIRMY\n",
    "ADRES FIRMY\n",
    "NIP: ...\n",
    "REGON: ...\n",
    "\n",
    "Odbierający:\n",
    "IMIĘ I NAZWISKO\n",
    "PESEL\n",
    "\n",
    "W dniu DATA zostały przekazane następujące sprzęty:\n",
    "- SPRZĘT 1\n",
    "- SPRZĘT 2\n",
    "- SPRZĘT 3\n",
    "\n",
    "\n",
    "\n",
    "................................\n",
    "Data i podpis przekazującego\n",
    "\n",
    "\n",
    "\n",
    "\n",
    "\n",
    "................................\n",
    "Data i podpis odbierającego\n",
    "```"
   ]
  },
  {
   "cell_type": "code",
   "execution_count": null,
   "id": "small-mexico",
   "metadata": {},
   "outputs": [],
   "source": [
    "CITY = 'Warszawa'\n",
    "COMPANY_NAME = 'Przykładowa nazwa firmy'\n",
    "COMPANY_ADDRESS = 'Adres firmy'\n",
    "COMPANY_NIP = '9898767654'\n",
    "COMPANY_REGON = '565434321'\n",
    "\n",
    "EMPLOYEE_NAME = 'Jan Kowalski'\n",
    "EMPLOYEE_PESEL = '89122145345'\n",
    "\n",
    "HARDWARE = ['Laptop XYZ ABC o numerze seryjnym: RTY7890', 'Klawiatura', 'Myszka']"
   ]
  }
 ],
 "metadata": {
  "kernelspec": {
   "display_name": "Python 3",
   "language": "python",
   "name": "python3"
  },
  "language_info": {
   "codemirror_mode": {
    "name": "ipython",
    "version": 3
   },
   "file_extension": ".py",
   "mimetype": "text/x-python",
   "name": "python",
   "nbconvert_exporter": "python",
   "pygments_lexer": "ipython3",
   "version": "3.8.5"
  }
 },
 "nbformat": 4,
 "nbformat_minor": 5
}
