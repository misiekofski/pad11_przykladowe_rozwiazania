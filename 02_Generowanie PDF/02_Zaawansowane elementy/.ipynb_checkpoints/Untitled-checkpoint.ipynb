{
 "cells": [
  {
   "cell_type": "code",
   "execution_count": 3,
   "id": "52846743-8628-4220-a8e5-85f4ee382029",
   "metadata": {},
   "outputs": [
    {
     "name": "stdout",
     "output_type": "stream",
     "text": [
      "Wykonanie funkcji nr 1\n",
      "1990\n",
      "Wykonanie funkcji nr 2\n",
      "1990\n",
      "Wykonanie funkcji nr 3\n",
      "1993\n",
      "Wykonanie funkcji nr 4\n",
      "1993\n",
      "Wykonanie funkcji nr 5\n",
      "1993\n"
     ]
    },
    {
     "data": {
      "text/plain": [
       "0    None\n",
       "1    None\n",
       "2    None\n",
       "3    None\n",
       "4    None\n",
       "dtype: object"
      ]
     },
     "execution_count": 3,
     "metadata": {},
     "output_type": "execute_result"
    }
   ],
   "source": [
    "import pandas as pd\n",
    "\n",
    "i = 0\n",
    "\n",
    "def funkcja_testowa(row):\n",
    "    global i\n",
    "    print(f\"Wykonanie funkcji nr {i}\")\n",
    "    print(row[\"Rok urodzenia\"])\n",
    "    i += 1\n",
    "\n",
    "df = pd.read_csv('oceny.csv')\n",
    "df.apply(funkcja_testowa, axis=1)"
   ]
  },
  {
   "cell_type": "code",
   "execution_count": null,
   "id": "dca19af3-6ae2-4f20-a281-154610b17584",
   "metadata": {},
   "outputs": [],
   "source": []
  }
 ],
 "metadata": {
  "kernelspec": {
   "display_name": "Python 3 (ipykernel)",
   "language": "python",
   "name": "python3"
  },
  "language_info": {
   "codemirror_mode": {
    "name": "ipython",
    "version": 3
   },
   "file_extension": ".py",
   "mimetype": "text/x-python",
   "name": "python",
   "nbconvert_exporter": "python",
   "pygments_lexer": "ipython3",
   "version": "3.9.7"
  }
 },
 "nbformat": 4,
 "nbformat_minor": 5
}
