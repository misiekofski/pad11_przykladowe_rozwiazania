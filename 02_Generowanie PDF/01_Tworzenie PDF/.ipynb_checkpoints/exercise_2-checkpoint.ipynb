{
 "cells": [
  {
   "cell_type": "markdown",
   "id": "orange-shelf",
   "metadata": {},
   "source": [
    "Za pomocą biblioteki `reportlab` wygeneruj PDF ze stroną tytułową raportu:\n",
    "- większym fontem, w 1/3 wysokości strony i z zachowaniem marginesu po lewej stronie umieść tytuł raportu (jeśli nie masz na niego pomysłu, umieść po prostu \"Tytuł Raportu\"),\n",
    "- w 2/3 wysokości strony i z tym samym marginesem co tytuł umieść swoje imię i nazwisko,\n",
    "- tuż poniżej imienia i nazwiska, mniejszym fontem napisz \"Copyright `[ROK]` Nazwa Firmy. Wszelkie prawa zastrzeżone\". Nie wpisuj roku na stałe, zamiast tego pobierz aktualny rok za pomocą modułu `datetime`.\n",
    "\n",
    "Tak jak poprzednio każdy z napisów powinien być utworzony za pomocą osobnego wywołania metody 'drawString'."
   ]
  },
  {
   "cell_type": "code",
   "execution_count": null,
   "id": "impressed-trout",
   "metadata": {},
   "outputs": [],
   "source": []
  }
 ],
 "metadata": {
  "kernelspec": {
   "display_name": "Python 3",
   "language": "python",
   "name": "python3"
  },
  "language_info": {
   "codemirror_mode": {
    "name": "ipython",
    "version": 3
   },
   "file_extension": ".py",
   "mimetype": "text/x-python",
   "name": "python",
   "nbconvert_exporter": "python",
   "pygments_lexer": "ipython3",
   "version": "3.8.6"
  }
 },
 "nbformat": 4,
 "nbformat_minor": 5
}
