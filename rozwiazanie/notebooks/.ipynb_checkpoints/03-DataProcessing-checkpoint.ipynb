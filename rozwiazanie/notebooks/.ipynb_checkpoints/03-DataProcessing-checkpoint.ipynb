{
 "cells": [
  {
   "cell_type": "code",
   "execution_count": 1,
   "metadata": {},
   "outputs": [],
   "source": [
    "import pandas as pd\n",
    "import re"
   ]
  },
  {
   "cell_type": "code",
   "execution_count": 2,
   "metadata": {},
   "outputs": [
    {
     "data": {
      "text/html": [
       "<div>\n",
       "<style scoped>\n",
       "    .dataframe tbody tr th:only-of-type {\n",
       "        vertical-align: middle;\n",
       "    }\n",
       "\n",
       "    .dataframe tbody tr th {\n",
       "        vertical-align: top;\n",
       "    }\n",
       "\n",
       "    .dataframe thead th {\n",
       "        text-align: right;\n",
       "    }\n",
       "</style>\n",
       "<table border=\"1\" class=\"dataframe\">\n",
       "  <thead>\n",
       "    <tr style=\"text-align: right;\">\n",
       "      <th></th>\n",
       "      <th>name</th>\n",
       "      <th>company</th>\n",
       "      <th>technology</th>\n",
       "      <th>job</th>\n",
       "      <th>location.city</th>\n",
       "      <th>location.country</th>\n",
       "      <th>salary.low</th>\n",
       "      <th>salary.high</th>\n",
       "      <th>salary.currency</th>\n",
       "      <th>salary</th>\n",
       "    </tr>\n",
       "  </thead>\n",
       "  <tbody>\n",
       "    <tr>\n",
       "      <th>0</th>\n",
       "      <td>Full Stack Java Developer</td>\n",
       "      <td>Sky and Space Co</td>\n",
       "      <td>NaN</td>\n",
       "      <td>java developer</td>\n",
       "      <td>Zdalna</td>\n",
       "      <td>NaN</td>\n",
       "      <td>16000.0</td>\n",
       "      <td>18000.0</td>\n",
       "      <td>PLN</td>\n",
       "      <td>NaN</td>\n",
       "    </tr>\n",
       "    <tr>\n",
       "      <th>1</th>\n",
       "      <td>Java Developer</td>\n",
       "      <td>Contina Sp. z o.o.</td>\n",
       "      <td>NaN</td>\n",
       "      <td>java developer</td>\n",
       "      <td>Zdalna</td>\n",
       "      <td>NaN</td>\n",
       "      <td>7000.0</td>\n",
       "      <td>12000.0</td>\n",
       "      <td>PLN</td>\n",
       "      <td>NaN</td>\n",
       "    </tr>\n",
       "    <tr>\n",
       "      <th>2</th>\n",
       "      <td>Java Developer (with AWS)</td>\n",
       "      <td>ASTEK Polska</td>\n",
       "      <td>NaN</td>\n",
       "      <td>java developer</td>\n",
       "      <td>Zdalna</td>\n",
       "      <td>NaN</td>\n",
       "      <td>21000.0</td>\n",
       "      <td>28350.0</td>\n",
       "      <td>PLN</td>\n",
       "      <td>NaN</td>\n",
       "    </tr>\n",
       "    <tr>\n",
       "      <th>3</th>\n",
       "      <td>Junior Java Developer</td>\n",
       "      <td>Softarely</td>\n",
       "      <td>NaN</td>\n",
       "      <td>java developer</td>\n",
       "      <td>Warszawa</td>\n",
       "      <td>POL</td>\n",
       "      <td>14700.0</td>\n",
       "      <td>18480.0</td>\n",
       "      <td>PLN</td>\n",
       "      <td>NaN</td>\n",
       "    </tr>\n",
       "    <tr>\n",
       "      <th>4</th>\n",
       "      <td>Junior Java/Groovy Developer</td>\n",
       "      <td>ProData Consult</td>\n",
       "      <td>NaN</td>\n",
       "      <td>java developer</td>\n",
       "      <td>Warszawa</td>\n",
       "      <td>POL</td>\n",
       "      <td>10080.0</td>\n",
       "      <td>16800.0</td>\n",
       "      <td>PLN</td>\n",
       "      <td>NaN</td>\n",
       "    </tr>\n",
       "  </tbody>\n",
       "</table>\n",
       "</div>"
      ],
      "text/plain": [
       "                           name             company  technology  \\\n",
       "0     Full Stack Java Developer    Sky and Space Co         NaN   \n",
       "1                Java Developer  Contina Sp. z o.o.         NaN   \n",
       "2     Java Developer (with AWS)        ASTEK Polska         NaN   \n",
       "3         Junior Java Developer           Softarely         NaN   \n",
       "4  Junior Java/Groovy Developer     ProData Consult         NaN   \n",
       "\n",
       "              job location.city location.country  salary.low  salary.high  \\\n",
       "0  java developer        Zdalna              NaN     16000.0      18000.0   \n",
       "1  java developer        Zdalna              NaN      7000.0      12000.0   \n",
       "2  java developer        Zdalna              NaN     21000.0      28350.0   \n",
       "3  java developer      Warszawa              POL     14700.0      18480.0   \n",
       "4  java developer      Warszawa              POL     10080.0      16800.0   \n",
       "\n",
       "  salary.currency  salary  \n",
       "0             PLN     NaN  \n",
       "1             PLN     NaN  \n",
       "2             PLN     NaN  \n",
       "3             PLN     NaN  \n",
       "4             PLN     NaN  "
      ]
     },
     "execution_count": 2,
     "metadata": {},
     "output_type": "execute_result"
    }
   ],
   "source": [
    "df_raw = pd.read_csv(\n",
    "    '../data/interim/job_offers.csv',\n",
    "    sep=';',\n",
    "    encoding='UTF-8'\n",
    ")\n",
    "df_raw.head()"
   ]
  },
  {
   "cell_type": "code",
   "execution_count": 3,
   "metadata": {},
   "outputs": [],
   "source": [
    "df = df_raw.copy()\n",
    "\n",
    "df['name'] = df['name'].str.lower()\n",
    "df['location.city'] = df['location.city'].str.lower()"
   ]
  },
  {
   "cell_type": "code",
   "execution_count": 4,
   "metadata": {},
   "outputs": [],
   "source": [
    "df['salary_avg'] = (df['salary.low'] + df['salary.high'])/2"
   ]
  },
  {
   "cell_type": "code",
   "execution_count": 5,
   "metadata": {},
   "outputs": [
    {
     "data": {
      "text/plain": [
       "array(['zdalna', 'warszawa', 'kraków', 'wrocław', 'warsaw', 'budapest',\n",
       "       'debrecen', 'białystok', 'bydgoszcz', 'gdańsk', 'łódź', 'poznań',\n",
       "       'trójmiasto', 'katowice', 'wroclaw'], dtype=object)"
      ]
     },
     "execution_count": 5,
     "metadata": {},
     "output_type": "execute_result"
    }
   ],
   "source": [
    "df['location.city'].unique()"
   ]
  },
  {
   "cell_type": "code",
   "execution_count": 6,
   "metadata": {},
   "outputs": [],
   "source": [
    "df.loc[df['location.city'].isin(['warsaw', 'warszawa']), 'location.city'] = 'warszawa'\n",
    "df.loc[df['location.city'].isin(['gdańsk', 'gdansk']), 'location.city'] = 'gdańsk'\n",
    "df.loc[df['location.city'].isin(['wroclaw', 'wrocław']), 'location.city'] = 'wrocław'"
   ]
  },
  {
   "cell_type": "code",
   "execution_count": 7,
   "metadata": {},
   "outputs": [],
   "source": [
    "df.loc[\n",
    "    (df['location.city'] == 'zdalna') &\n",
    "    (df['location.country'].isnull()),\n",
    "    'location.country'] = 'B/D'"
   ]
  },
  {
   "cell_type": "code",
   "execution_count": 8,
   "metadata": {},
   "outputs": [],
   "source": [
    "df['is_senior'] = 0\n",
    "df.loc[df['name'].apply(lambda x: True if re.match('(?i)(senior)', x) else False), \n",
    "'is_senior'] = 1"
   ]
  },
  {
   "cell_type": "code",
   "execution_count": 9,
   "metadata": {},
   "outputs": [],
   "source": [
    "df = df.loc[df['salary.currency'] == 'PLN']"
   ]
  },
  {
   "cell_type": "code",
   "execution_count": 10,
   "metadata": {},
   "outputs": [],
   "source": [
    "df.to_csv('../data/processed/job_offers.csv',\n",
    "    sep=';',\n",
    "    encoding='UTF-8',\n",
    "    index=False)"
   ]
  },
  {
   "cell_type": "code",
   "execution_count": null,
   "metadata": {},
   "outputs": [],
   "source": []
  }
 ],
 "metadata": {
  "kernelspec": {
   "display_name": "Python 3 (ipykernel)",
   "language": "python",
   "name": "python3"
  },
  "language_info": {
   "codemirror_mode": {
    "name": "ipython",
    "version": 3
   },
   "file_extension": ".py",
   "mimetype": "text/x-python",
   "name": "python",
   "nbconvert_exporter": "python",
   "pygments_lexer": "ipython3",
   "version": "3.9.7"
  }
 },
 "nbformat": 4,
 "nbformat_minor": 4
}
