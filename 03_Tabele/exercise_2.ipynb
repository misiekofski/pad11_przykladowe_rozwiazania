{
 "cells": [
  {
   "cell_type": "markdown",
   "id": "grand-earthquake",
   "metadata": {},
   "source": [
    "Na podstawie poprzedniego zadania napisz funkcję, która przyjmie nazwę pliku do wygenerowania, dane o nabywcy oraz listę pozycji na fakturze - a następnie wygeneruje i zapisze fakturę w pliku o podanej nazwie.\n",
    "\n",
    "W pliku `dane.json` znajdziesz dane trzech faktur - za pomocą pętli odczytaj te dane i przekaż do funkcji, aby wygenerować faktury w formie plików PDF. Pliki nazwij kolejno `faktura-1.pdf`, `faktura-2.pdf`, itd."
   ]
  },
  {
   "cell_type": "code",
   "execution_count": 70,
   "id": "46153d01-ce88-40dc-a461-96a6dc955213",
   "metadata": {},
   "outputs": [],
   "source": [
    "import pandas as pd\n",
    "import json\n",
    "\n",
    "from reportlab.platypus import SimpleDocTemplate, Table, TableStyle\n",
    "from reportlab.lib.styles import getSampleStyleSheet\n",
    "from reportlab.pdfbase import pdfmetrics\n",
    "from reportlab.pdfbase.ttfonts import TTFont\n",
    "\n",
    "\n",
    "with open('dane do faktur.json', encoding='utf-8') as data_file:    \n",
    "    data = json.load(data_file)\n",
    "\n",
    "df = pd.json_normalize(data, 'invoices')"
   ]
  },
  {
   "cell_type": "code",
   "execution_count": 140,
   "id": "af428d57-a71b-4164-b2b4-f1fc746eb7ad",
   "metadata": {},
   "outputs": [],
   "source": [
    "styles = getSampleStyleSheet()\n",
    "pdfmetrics.registerFont(TTFont('Arial', 'arial.ttf')) \n",
    "\n",
    "styl_naglowka = TableStyle([\n",
    "    ('FONT', (0,0), (-1, -1), 'Arial', 13)\n",
    "])\n",
    "\n",
    "styl_tabeli = TableStyle([\n",
    "    ('FONT', (0,0), (-1, -1), 'Arial', 11),\n",
    "    ('GRID', (0,0), (-1, -1), 0.5, 'black'),\n",
    "    ('SPAN', (0,-1), (1,-1)),\n",
    "    ('ALIGN', (0,-1), (1,-1), 'RIGHT')\n",
    "])"
   ]
  },
  {
   "cell_type": "code",
   "execution_count": 141,
   "id": "46b85c65-b109-42c2-a04b-a8ec9cdd56f5",
   "metadata": {},
   "outputs": [
    {
     "data": {
      "text/html": [
       "<div>\n",
       "<style scoped>\n",
       "    .dataframe tbody tr th:only-of-type {\n",
       "        vertical-align: middle;\n",
       "    }\n",
       "\n",
       "    .dataframe tbody tr th {\n",
       "        vertical-align: top;\n",
       "    }\n",
       "\n",
       "    .dataframe thead th {\n",
       "        text-align: right;\n",
       "    }\n",
       "</style>\n",
       "<table border=\"1\" class=\"dataframe\">\n",
       "  <thead>\n",
       "    <tr style=\"text-align: right;\">\n",
       "      <th></th>\n",
       "      <th>date</th>\n",
       "      <th>items</th>\n",
       "      <th>buyer.name</th>\n",
       "      <th>buyer.address</th>\n",
       "      <th>buyer.nip</th>\n",
       "      <th>buyer.regon</th>\n",
       "    </tr>\n",
       "  </thead>\n",
       "  <tbody>\n",
       "    <tr>\n",
       "      <th>0</th>\n",
       "      <td>1.12.2020</td>\n",
       "      <td>[{'name': 'Grabki', 'price': 4.5, 'amount': 5}...</td>\n",
       "      <td>Firma XYZ</td>\n",
       "      <td>Adres firmy XYZ</td>\n",
       "      <td>7564984534</td>\n",
       "      <td>324353453</td>\n",
       "    </tr>\n",
       "    <tr>\n",
       "      <th>1</th>\n",
       "      <td>11.11.2020</td>\n",
       "      <td>[{'name': 'Lalka', 'price': 39.9, 'amount': 6}...</td>\n",
       "      <td>Firma ABC</td>\n",
       "      <td>Adres firmy ABC</td>\n",
       "      <td>8472058276</td>\n",
       "      <td>437598432</td>\n",
       "    </tr>\n",
       "    <tr>\n",
       "      <th>2</th>\n",
       "      <td>15.12.2020</td>\n",
       "      <td>[{'name': 'Karabin', 'price': 25, 'amount': 10...</td>\n",
       "      <td>Firma IJK</td>\n",
       "      <td>Adres firmy IJK</td>\n",
       "      <td>7473092210</td>\n",
       "      <td>687432543</td>\n",
       "    </tr>\n",
       "  </tbody>\n",
       "</table>\n",
       "</div>"
      ],
      "text/plain": [
       "         date                                              items buyer.name  \\\n",
       "0   1.12.2020  [{'name': 'Grabki', 'price': 4.5, 'amount': 5}...  Firma XYZ   \n",
       "1  11.11.2020  [{'name': 'Lalka', 'price': 39.9, 'amount': 6}...  Firma ABC   \n",
       "2  15.12.2020  [{'name': 'Karabin', 'price': 25, 'amount': 10...  Firma IJK   \n",
       "\n",
       "     buyer.address   buyer.nip  buyer.regon  \n",
       "0  Adres firmy XYZ  7564984534    324353453  \n",
       "1  Adres firmy ABC  8472058276    437598432  \n",
       "2  Adres firmy IJK  7473092210    687432543  "
      ]
     },
     "execution_count": 141,
     "metadata": {},
     "output_type": "execute_result"
    }
   ],
   "source": [
    "df"
   ]
  },
  {
   "cell_type": "code",
   "execution_count": 142,
   "id": "c62f51d4-f629-48a7-b639-771c6b09ffc0",
   "metadata": {},
   "outputs": [],
   "source": [
    "i = 0\n",
    "\n",
    "def generate_invoices(row, file_out):\n",
    "    global i\n",
    "    i += 1\n",
    "    file_out = f'{file_out}-{i}.pdf'\n",
    "    doc = SimpleDocTemplate(file_out)\n",
    "    story = []\n",
    "    \n",
    "    date_and_city = [\n",
    "        [\"Miejsce wystawienia: \", \"Warszawa\"], \n",
    "        [\"Data wystawienia: \", row['date']],\n",
    "        [\"Data sprzedaży: \", row['date']],\n",
    "    ]\n",
    "\n",
    "    t = Table(date_and_city, style=styl_naglowka, hAlign='RIGHT')\n",
    "    story.append(t)\n",
    "    \n",
    "    opis_faktury = [\n",
    "        [\"Sprzedawca:\"], \n",
    "        [\"Firma XYZ\"],\n",
    "        [\"Adres firmy\"],\n",
    "        [\"NIP\"],\n",
    "        [\"REGON\"],\n",
    "        [],\n",
    "        [\"Nabywca:\"],\n",
    "        [row['buyer.name']],\n",
    "        [row['buyer.address']],\n",
    "        [row['buyer.nip']],\n",
    "        [row['buyer.regon']],\n",
    "        [\"\"]\n",
    "    ]\n",
    " \n",
    "    t = Table(opis_faktury, style=styl_naglowka, hAlign='LEFT')\n",
    "    story.append(t)\n",
    "    \n",
    "    # tabelka z przedmiotami\n",
    "    items = []\n",
    "    # nagłówek tabeli\n",
    "    items.append(['Nazwa towaru/usługi', 'Ilość', 'Cena', 'Cena łączna'])\n",
    "    \n",
    "    # wypełniamy wiersze z przedmiotami\n",
    "    for d in row['items']:\n",
    "        # pusty wiersz faktury\n",
    "        invoice_row = []\n",
    "        # ze słownika z elementami pobierz wszystkie wartości\n",
    "        for v in d.values():\n",
    "            invoice_row.append(v)\n",
    "        # dodaj na końcu wiersza ilość * cena jednostkowa\n",
    "        invoice_row.append(invoice_row[-1]*invoice_row[-2])\n",
    "        # dodaj wiersz do tabeli\n",
    "        items.append(invoice_row)\n",
    "    \n",
    "    # trick, zsumuj wszystkie elementy w liście dwuwymiarowej -> ilosć\n",
    "    items_sum = sum([x[-2] for x in items[1:]])\n",
    "    # trick, zsumuj wszystkie elementy w liście dwuwymiarowej -> ceny\n",
    "    price_sum = sum([x[-1] for x in items[1:]])\n",
    "    # dodaj ostatni wiersz z sumą ilości i ceną sumaryczną\n",
    "    items.append(['Suma', '', items_sum, price_sum])\n",
    "    \n",
    "    t = Table(items, style=styl_tabeli)\n",
    "    story.append(t)\n",
    "    \n",
    "    doc.build(story)"
   ]
  },
  {
   "cell_type": "code",
   "execution_count": null,
   "id": "21889d12-3cb6-4277-a353-4f3d74032ef7",
   "metadata": {},
   "outputs": [
    {
     "data": {
      "text/plain": [
       "0    None\n",
       "1    None\n",
       "2    None\n",
       "dtype: object"
      ]
     },
     "execution_count": 143,
     "metadata": {},
     "output_type": "execute_result"
    }
   ],
   "source": [
    "# generuj faktury poprzed apply na dataframe\n",
    "df.apply(lambda row: generate_invoices(row, 'faktura'), axis=1)"
   ]
  }
 ],
 "metadata": {
  "kernelspec": {
   "display_name": "Python 3 (ipykernel)",
   "language": "python",
   "name": "python3"
  },
  "language_info": {
   "codemirror_mode": {
    "name": "ipython",
    "version": 3
   },
   "file_extension": ".py",
   "mimetype": "text/x-python",
   "name": "python",
   "nbconvert_exporter": "python",
   "pygments_lexer": "ipython3",
   "version": "3.9.7"
  }
 },
 "nbformat": 4,
 "nbformat_minor": 5
}
