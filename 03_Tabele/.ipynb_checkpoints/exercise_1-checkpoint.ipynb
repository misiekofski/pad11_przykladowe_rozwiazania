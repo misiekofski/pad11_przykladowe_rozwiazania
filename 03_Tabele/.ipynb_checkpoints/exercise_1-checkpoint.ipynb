{
 "cells": [
  {
   "cell_type": "markdown",
   "id": "balanced-keeping",
   "metadata": {},
   "source": [
    "Wygeneruj plik `faktura.pdf` na podstawie danych podanych poniżej. Postaraj się nie wpisywać danych na stałe w kodzie - umieść je w zmiennych na początku skryptu, a dodając kolejne elementy do PDFa odnoś się do tych zmiennych.\n",
    "\n",
    "\n",
    "\n",
    "Wzór:\n",
    "\n",
    "![Wzór](faktura.png)"
   ]
  },
  {
   "cell_type": "code",
   "execution_count": 1,
   "id": "interested-illness",
   "metadata": {},
   "outputs": [],
   "source": [
    "from reportlab.platypus import SimpleDocTemplate, Table, TableStyle\n",
    "from reportlab.lib.styles import getSampleStyleSheet\n",
    "from reportlab.pdfbase import pdfmetrics\n",
    "from reportlab.pdfbase.ttfonts import TTFont\n",
    "\n",
    "styles = getSampleStyleSheet()\n",
    "pdfmetrics.registerFont(TTFont('Arial', 'arial.ttf')) \n",
    "\n",
    "doc = SimpleDocTemplate('faktura.pdf')\n",
    "story = []\n",
    "\n",
    "wlasny_styl = TableStyle([\n",
    "    ('FONT', (0,0), (-1, -1), 'Arial', 11)\n",
    "])\n",
    "\n",
    "date_and_city = [\n",
    "    [\"Miejsce wystawienia: \", \"Warszawa\"],\n",
    "    [\"Data wystawienia: \", \"1.12.2020\"],\n",
    "    [\"Data sprzedaży: \", \"1.12.2020\"],\n",
    "    [\"Data zakończenia: \", \"1.12.2020\"]\n",
    "]\n",
    "\n",
    "t = Table(date_and_city, style=wlasny_styl, hAlign='RIGHT')\n",
    "story.append(t)\n",
    "\n",
    "t = Table(date_and_city, style=wlasny_styl, hAlign='LEFT')\n",
    "story.append(t)\n",
    "\n",
    "\n",
    "doc.build(story)"
   ]
  },
  {
   "cell_type": "code",
   "execution_count": null,
   "id": "565ee072-6005-4cd0-af51-4f9a93712471",
   "metadata": {},
   "outputs": [],
   "source": []
  }
 ],
 "metadata": {
  "kernelspec": {
   "display_name": "Python 3 (ipykernel)",
   "language": "python",
   "name": "python3"
  },
  "language_info": {
   "codemirror_mode": {
    "name": "ipython",
    "version": 3
   },
   "file_extension": ".py",
   "mimetype": "text/x-python",
   "name": "python",
   "nbconvert_exporter": "python",
   "pygments_lexer": "ipython3",
   "version": "3.9.7"
  }
 },
 "nbformat": 4,
 "nbformat_minor": 5
}
