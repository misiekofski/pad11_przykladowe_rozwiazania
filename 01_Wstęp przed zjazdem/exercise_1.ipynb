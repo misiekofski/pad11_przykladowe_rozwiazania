{
 "cells": [
  {
   "cell_type": "markdown",
   "id": "primary-bidding",
   "metadata": {},
   "source": [
    "# Zadanie 1\n",
    "\n",
    "To zadanie ma na celu przetestowanie, czy biblioteka `reportlab` jest zainstalowana. Jeszcze przed zajęciami upewnij się, że wszystko działa prawidłowo, w razie problemów poproś o pomoc mentora."
   ]
  },
  {
   "cell_type": "code",
   "execution_count": 3,
   "id": "sustained-damage",
   "metadata": {},
   "outputs": [],
   "source": [
    "from reportlab.pdfgen import canvas\n",
    "\n",
    "c = canvas.Canvas('test.pdf')\n",
    "c.drawString(250, 500, 'Lubie placki!')\n",
    "c.save()"
   ]
  },
  {
   "cell_type": "code",
   "execution_count": null,
   "id": "fbe9ddc0-6dcc-4c8d-8716-52ee12e30e91",
   "metadata": {},
   "outputs": [],
   "source": []
  }
 ],
 "metadata": {
  "kernelspec": {
   "display_name": "Python 3 (ipykernel)",
   "language": "python",
   "name": "python3"
  },
  "language_info": {
   "codemirror_mode": {
    "name": "ipython",
    "version": 3
   },
   "file_extension": ".py",
   "mimetype": "text/x-python",
   "name": "python",
   "nbconvert_exporter": "python",
   "pygments_lexer": "ipython3",
   "version": "3.9.7"
  }
 },
 "nbformat": 4,
 "nbformat_minor": 5
}
