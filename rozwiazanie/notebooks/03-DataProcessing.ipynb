{
 "cells": [
  {
   "cell_type": "code",
   "execution_count": 1,
   "metadata": {},
   "outputs": [],
   "source": [
    "import pandas as pd\n",
    "import re"
   ]
  },
  {
   "cell_type": "code",
   "execution_count": 2,
   "metadata": {},
   "outputs": [
    {
     "data": {
      "text/html": [
       "<div>\n",
       "<style scoped>\n",
       "    .dataframe tbody tr th:only-of-type {\n",
       "        vertical-align: middle;\n",
       "    }\n",
       "\n",
       "    .dataframe tbody tr th {\n",
       "        vertical-align: top;\n",
       "    }\n",
       "\n",
       "    .dataframe thead th {\n",
       "        text-align: right;\n",
       "    }\n",
       "</style>\n",
       "<table border=\"1\" class=\"dataframe\">\n",
       "  <thead>\n",
       "    <tr style=\"text-align: right;\">\n",
       "      <th></th>\n",
       "      <th>name</th>\n",
       "      <th>company</th>\n",
       "      <th>technology</th>\n",
       "      <th>job</th>\n",
       "      <th>location.city</th>\n",
       "      <th>location.country</th>\n",
       "      <th>salary.low</th>\n",
       "      <th>salary.high</th>\n",
       "      <th>salary.currency</th>\n",
       "      <th>salary</th>\n",
       "    </tr>\n",
       "  </thead>\n",
       "  <tbody>\n",
       "    <tr>\n",
       "      <th>0</th>\n",
       "      <td>Product Data Analyst</td>\n",
       "      <td>No Fluff Jobs</td>\n",
       "      <td>NaN</td>\n",
       "      <td>data analyst</td>\n",
       "      <td>Zdalna</td>\n",
       "      <td>NaN</td>\n",
       "      <td>12000.0</td>\n",
       "      <td>18000.0</td>\n",
       "      <td>PLN</td>\n",
       "      <td>NaN</td>\n",
       "    </tr>\n",
       "    <tr>\n",
       "      <th>1</th>\n",
       "      <td>Data Analyst (Private Equity)</td>\n",
       "      <td>Devire</td>\n",
       "      <td>NaN</td>\n",
       "      <td>data analyst</td>\n",
       "      <td>Warsaw</td>\n",
       "      <td>POL</td>\n",
       "      <td>12000.0</td>\n",
       "      <td>18000.0</td>\n",
       "      <td>PLN</td>\n",
       "      <td>NaN</td>\n",
       "    </tr>\n",
       "    <tr>\n",
       "      <th>2</th>\n",
       "      <td>Business Analyst/Senior Business Analyst</td>\n",
       "      <td>SoftServe</td>\n",
       "      <td>NaN</td>\n",
       "      <td>data analyst</td>\n",
       "      <td>Zdalna</td>\n",
       "      <td>NaN</td>\n",
       "      <td>11000.0</td>\n",
       "      <td>21500.0</td>\n",
       "      <td>PLN</td>\n",
       "      <td>NaN</td>\n",
       "    </tr>\n",
       "    <tr>\n",
       "      <th>3</th>\n",
       "      <td>Power BI Developer / Data Analyst</td>\n",
       "      <td>Objectivity</td>\n",
       "      <td>NaN</td>\n",
       "      <td>data analyst</td>\n",
       "      <td>Zdalna</td>\n",
       "      <td>NaN</td>\n",
       "      <td>14000.0</td>\n",
       "      <td>20000.0</td>\n",
       "      <td>PLN</td>\n",
       "      <td>NaN</td>\n",
       "    </tr>\n",
       "    <tr>\n",
       "      <th>4</th>\n",
       "      <td>Junior Data Analyst</td>\n",
       "      <td>Coinfirm</td>\n",
       "      <td>NaN</td>\n",
       "      <td>data analyst</td>\n",
       "      <td>Zdalna</td>\n",
       "      <td>NaN</td>\n",
       "      <td>3100.0</td>\n",
       "      <td>5000.0</td>\n",
       "      <td>PLN</td>\n",
       "      <td>NaN</td>\n",
       "    </tr>\n",
       "  </tbody>\n",
       "</table>\n",
       "</div>"
      ],
      "text/plain": [
       "                                       name        company  technology  \\\n",
       "0                      Product Data Analyst  No Fluff Jobs         NaN   \n",
       "1             Data Analyst (Private Equity)         Devire         NaN   \n",
       "2  Business Analyst/Senior Business Analyst      SoftServe         NaN   \n",
       "3         Power BI Developer / Data Analyst    Objectivity         NaN   \n",
       "4                       Junior Data Analyst       Coinfirm         NaN   \n",
       "\n",
       "            job location.city location.country  salary.low  salary.high  \\\n",
       "0  data analyst        Zdalna              NaN     12000.0      18000.0   \n",
       "1  data analyst        Warsaw              POL     12000.0      18000.0   \n",
       "2  data analyst        Zdalna              NaN     11000.0      21500.0   \n",
       "3  data analyst        Zdalna              NaN     14000.0      20000.0   \n",
       "4  data analyst        Zdalna              NaN      3100.0       5000.0   \n",
       "\n",
       "  salary.currency  salary  \n",
       "0             PLN     NaN  \n",
       "1             PLN     NaN  \n",
       "2             PLN     NaN  \n",
       "3             PLN     NaN  \n",
       "4             PLN     NaN  "
      ]
     },
     "execution_count": 2,
     "metadata": {},
     "output_type": "execute_result"
    }
   ],
   "source": [
    "df_raw = pd.read_csv(\n",
    "    '../data/interim/job_offers.csv',\n",
    "    sep=';',\n",
    "    encoding='UTF-8'\n",
    ")\n",
    "df_raw.head()"
   ]
  },
  {
   "cell_type": "code",
   "execution_count": 3,
   "metadata": {},
   "outputs": [],
   "source": [
    "df = df_raw.copy()\n",
    "\n",
    "df['name'] = df['name'].str.lower()\n",
    "df['location.city'] = df['location.city'].str.lower()"
   ]
  },
  {
   "cell_type": "code",
   "execution_count": 5,
   "metadata": {},
   "outputs": [],
   "source": [
    "df['salary.avg'] = (df['salary.low'] + df['salary.high'])/2"
   ]
  },
  {
   "cell_type": "code",
   "execution_count": 6,
   "metadata": {},
   "outputs": [
    {
     "data": {
      "text/plain": [
       "array(['zdalna', 'warsaw', 'warszawa', 'kraków', 'gdańsk', 'wroclaw',\n",
       "       'poznań', 'krakow', 'malbork', 'budapest', 'wrocław',\n",
       "       'szombathely', 'lublin', 'gliwice', 'mysłowice', 'katowice',\n",
       "       'opole', 'trzebinia', 'łódź', 'rzeszów', 'częstochowa', 'debrecen',\n",
       "       'białystok', 'bydgoszcz', 'trójmiasto', 'szczecin', 'gdynia'],\n",
       "      dtype=object)"
      ]
     },
     "execution_count": 6,
     "metadata": {},
     "output_type": "execute_result"
    }
   ],
   "source": [
    "df['location.city'].unique()"
   ]
  },
  {
   "cell_type": "code",
   "execution_count": 7,
   "metadata": {},
   "outputs": [],
   "source": [
    "df.loc[df['location.city'].isin(['warsaw', 'warszawa']), 'location.city'] = 'warszawa'\n",
    "df.loc[df['location.city'].isin(['gdańsk', 'gdansk']), 'location.city'] = 'gdańsk'\n",
    "df.loc[df['location.city'].isin(['wroclaw', 'wrocław']), 'location.city'] = 'wrocław'\n",
    "df.loc[df['location.city'].isin(['kraków', 'krakow']), 'location.city'] = 'kraków'\n",
    "df.loc[df['location.city'].isin(['gdańsk', 'gdynia', 'trójmiasto']), 'location.city'] = 'trójmiasto'"
   ]
  },
  {
   "cell_type": "code",
   "execution_count": 8,
   "metadata": {},
   "outputs": [],
   "source": [
    "df.loc[\n",
    "    (df['location.city'] == 'zdalna') &\n",
    "    (df['location.country'].isnull()),\n",
    "    'location.country'] = 'B/D'"
   ]
  },
  {
   "cell_type": "code",
   "execution_count": 9,
   "metadata": {},
   "outputs": [],
   "source": [
    "df['is_senior'] = 0\n",
    "df.loc[df['name'].apply(lambda x: True if re.match('(?i)(senior)', x) else False), \n",
    "'is_senior'] = 1"
   ]
  },
  {
   "cell_type": "code",
   "execution_count": 10,
   "metadata": {},
   "outputs": [],
   "source": [
    "df = df.loc[df['salary.currency'] == 'PLN']"
   ]
  },
  {
   "cell_type": "code",
   "execution_count": 11,
   "metadata": {},
   "outputs": [],
   "source": [
    "df.to_csv('../data/processed/job_offers.csv',\n",
    "    sep=';',\n",
    "    encoding='UTF-8',\n",
    "    index=False)"
   ]
  }
 ],
 "metadata": {
  "kernelspec": {
   "display_name": "Python 3 (ipykernel)",
   "language": "python",
   "name": "python3"
  },
  "language_info": {
   "codemirror_mode": {
    "name": "ipython",
    "version": 3
   },
   "file_extension": ".py",
   "mimetype": "text/x-python",
   "name": "python",
   "nbconvert_exporter": "python",
   "pygments_lexer": "ipython3",
   "version": "3.9.7"
  }
 },
 "nbformat": 4,
 "nbformat_minor": 4
}
